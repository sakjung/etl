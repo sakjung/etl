{
 "cells": [
  {
   "cell_type": "markdown",
   "metadata": {
    "editable": true
   },
   "source": [
    "# ETL Processes\n",
    "Use this notebook to develop the ETL process for each of your tables before completing the `etl.py` file to load the whole datasets."
   ]
  },
  {
   "cell_type": "code",
   "execution_count": 2,
   "metadata": {
    "editable": true
   },
   "outputs": [],
   "source": [
    "import os\n",
    "import glob\n",
    "import psycopg2\n",
    "import numpy as np\n",
    "import pandas as pd\n",
    "import datetime\n",
    "from sql_queries import *\n",
    "import json\n",
    "from typing import Any"
   ]
  },
  {
   "cell_type": "code",
   "execution_count": 3,
   "metadata": {
    "editable": true
   },
   "outputs": [],
   "source": [
    "conn = psycopg2.connect(\"host=127.0.0.1 dbname=sparkifydb user=student password=student\")\n",
    "cur = conn.cursor()"
   ]
  },
  {
   "cell_type": "code",
   "execution_count": 4,
   "metadata": {
    "editable": true
   },
   "outputs": [],
   "source": [
    "def get_files(filepath):\n",
    "    all_files = []\n",
    "    for root, dirs, files in os.walk(filepath):\n",
    "        files = glob.glob(os.path.join(root,'*.json'))\n",
    "        for f in files :\n",
    "            all_files.append(os.path.abspath(f))\n",
    "    \n",
    "    return all_files"
   ]
  },
  {
   "cell_type": "markdown",
   "metadata": {
    "editable": true
   },
   "source": [
    "# Process `song_data`\n",
    "In this first part, you'll perform ETL on the first dataset, `song_data`, to create the `songs` and `artists` dimensional tables.\n",
    "\n",
    "Let's perform ETL on a single song file and load a single record into each table to start.\n",
    "- Use the `get_files` function provided above to get a list of all song JSON files in `data/song_data`\n",
    "- Select the first song in this list\n",
    "- Read the song file and view the data"
   ]
  },
  {
   "cell_type": "code",
   "execution_count": 4,
   "metadata": {
    "editable": true
   },
   "outputs": [],
   "source": [
    "song_files = get_files(\"data/song_data\")"
   ]
  },
  {
   "cell_type": "code",
   "execution_count": 5,
   "metadata": {
    "editable": true
   },
   "outputs": [],
   "source": [
    "filepath = song_files[2]"
   ]
  },
  {
   "cell_type": "code",
   "execution_count": 6,
   "metadata": {
    "editable": true
   },
   "outputs": [
    {
     "data": {
      "text/html": [
       "<div>\n",
       "<style scoped>\n",
       "    .dataframe tbody tr th:only-of-type {\n",
       "        vertical-align: middle;\n",
       "    }\n",
       "\n",
       "    .dataframe tbody tr th {\n",
       "        vertical-align: top;\n",
       "    }\n",
       "\n",
       "    .dataframe thead th {\n",
       "        text-align: right;\n",
       "    }\n",
       "</style>\n",
       "<table border=\"1\" class=\"dataframe\">\n",
       "  <thead>\n",
       "    <tr style=\"text-align: right;\">\n",
       "      <th></th>\n",
       "      <th>artist_id</th>\n",
       "      <th>artist_latitude</th>\n",
       "      <th>artist_location</th>\n",
       "      <th>artist_longitude</th>\n",
       "      <th>artist_name</th>\n",
       "      <th>duration</th>\n",
       "      <th>num_songs</th>\n",
       "      <th>song_id</th>\n",
       "      <th>title</th>\n",
       "      <th>year</th>\n",
       "    </tr>\n",
       "  </thead>\n",
       "  <tbody>\n",
       "    <tr>\n",
       "      <th>0</th>\n",
       "      <td>ARVBRGZ1187FB4675A</td>\n",
       "      <td>NaN</td>\n",
       "      <td></td>\n",
       "      <td>NaN</td>\n",
       "      <td>Gwen Stefani</td>\n",
       "      <td>290.55955</td>\n",
       "      <td>1</td>\n",
       "      <td>SORRZGD12A6310DBC3</td>\n",
       "      <td>Harajuku Girls</td>\n",
       "      <td>2004</td>\n",
       "    </tr>\n",
       "  </tbody>\n",
       "</table>\n",
       "</div>"
      ],
      "text/plain": [
       "            artist_id  artist_latitude artist_location  artist_longitude  \\\n",
       "0  ARVBRGZ1187FB4675A              NaN                               NaN   \n",
       "\n",
       "    artist_name   duration  num_songs             song_id           title  \\\n",
       "0  Gwen Stefani  290.55955          1  SORRZGD12A6310DBC3  Harajuku Girls   \n",
       "\n",
       "   year  \n",
       "0  2004  "
      ]
     },
     "execution_count": 6,
     "metadata": {},
     "output_type": "execute_result"
    }
   ],
   "source": [
    "# df = df.append(pd.DataFrame(data = pd.read_json(filepath, lines=True)), ignore_index=True)\n",
    "df = pd.read_json(filepath, lines=True)\n",
    "df.head()"
   ]
  },
  {
   "cell_type": "markdown",
   "metadata": {
    "editable": true
   },
   "source": [
    "## #1: `songs` Table\n",
    "#### Extract Data for Songs Table\n",
    "- Select columns for song ID, title, artist ID, year, and duration\n",
    "- Use `df.values` to select just the values from the dataframe\n",
    "- Index to select the first (only) record in the dataframe\n",
    "- Convert the array to a list and set it to `song_data`"
   ]
  },
  {
   "cell_type": "code",
   "execution_count": 16,
   "metadata": {
    "editable": true
   },
   "outputs": [
    {
     "data": {
      "text/plain": [
       "[['SOGDBUF12A8C140FAA', 'Intro', 'AR558FS1187FB45658', 2003, 75.67628],\n",
       " ['SORRZGD12A6310DBC3',\n",
       "  'Harajuku Girls',\n",
       "  'ARVBRGZ1187FB4675A',\n",
       "  2004,\n",
       "  290.55955]]"
      ]
     },
     "execution_count": 16,
     "metadata": {},
     "output_type": "execute_result"
    }
   ],
   "source": [
    "song_data = df[['song_id', 'title', 'artist_id', 'year', 'duration']].values.tolist()\n",
    "song_data"
   ]
  },
  {
   "cell_type": "markdown",
   "metadata": {
    "editable": true
   },
   "source": [
    "#### Insert Record into Song Table\n",
    "Implement the `song_table_insert` query in `sql_queries.py` and run the cell below to insert a record for this song into the `songs` table. Remember to run `create_tables.py` before running the cell below to ensure you've created/resetted the `songs` table in the sparkify database."
   ]
  },
  {
   "cell_type": "code",
   "execution_count": 23,
   "metadata": {
    "editable": true
   },
   "outputs": [],
   "source": [
    "cur.execute(song_table_insert, song_data)\n",
    "conn.commit()"
   ]
  },
  {
   "cell_type": "markdown",
   "metadata": {
    "editable": true
   },
   "source": [
    "Run `test.ipynb` to see if you've successfully added a record to this table."
   ]
  },
  {
   "cell_type": "markdown",
   "metadata": {
    "editable": true
   },
   "source": [
    "## #2: `artists` Table\n",
    "#### Extract Data for Artists Table\n",
    "- Select columns for artist ID, name, location, latitude, and longitude\n",
    "- Use `df.values` to select just the values from the dataframe\n",
    "- Index to select the first (only) record in the dataframe\n",
    "- Convert the array to a list and set it to `artist_data`"
   ]
  },
  {
   "cell_type": "code",
   "execution_count": 24,
   "metadata": {
    "editable": true
   },
   "outputs": [
    {
     "data": {
      "text/html": [
       "<div>\n",
       "<style scoped>\n",
       "    .dataframe tbody tr th:only-of-type {\n",
       "        vertical-align: middle;\n",
       "    }\n",
       "\n",
       "    .dataframe tbody tr th {\n",
       "        vertical-align: top;\n",
       "    }\n",
       "\n",
       "    .dataframe thead th {\n",
       "        text-align: right;\n",
       "    }\n",
       "</style>\n",
       "<table border=\"1\" class=\"dataframe\">\n",
       "  <thead>\n",
       "    <tr style=\"text-align: right;\">\n",
       "      <th></th>\n",
       "      <th>artist_id</th>\n",
       "      <th>artist_latitude</th>\n",
       "      <th>artist_location</th>\n",
       "      <th>artist_longitude</th>\n",
       "      <th>artist_name</th>\n",
       "      <th>duration</th>\n",
       "      <th>num_songs</th>\n",
       "      <th>song_id</th>\n",
       "      <th>title</th>\n",
       "      <th>year</th>\n",
       "    </tr>\n",
       "  </thead>\n",
       "  <tbody>\n",
       "    <tr>\n",
       "      <th>0</th>\n",
       "      <td>AR8IEZO1187B99055E</td>\n",
       "      <td>NaN</td>\n",
       "      <td></td>\n",
       "      <td>NaN</td>\n",
       "      <td>Marc Shaiman</td>\n",
       "      <td>149.86404</td>\n",
       "      <td>1</td>\n",
       "      <td>SOINLJW12A8C13314C</td>\n",
       "      <td>City Slickers</td>\n",
       "      <td>2008</td>\n",
       "    </tr>\n",
       "  </tbody>\n",
       "</table>\n",
       "</div>"
      ],
      "text/plain": [
       "            artist_id  artist_latitude artist_location  artist_longitude  \\\n",
       "0  AR8IEZO1187B99055E              NaN                               NaN   \n",
       "\n",
       "    artist_name   duration  num_songs             song_id          title  year  \n",
       "0  Marc Shaiman  149.86404          1  SOINLJW12A8C13314C  City Slickers  2008  "
      ]
     },
     "execution_count": 24,
     "metadata": {},
     "output_type": "execute_result"
    }
   ],
   "source": [
    "df"
   ]
  },
  {
   "cell_type": "code",
   "execution_count": 25,
   "metadata": {
    "editable": true
   },
   "outputs": [
    {
     "data": {
      "text/plain": [
       "['AR8IEZO1187B99055E', 'Marc Shaiman', '', nan, nan]"
      ]
     },
     "execution_count": 25,
     "metadata": {},
     "output_type": "execute_result"
    }
   ],
   "source": [
    "artist_data = df[['artist_id', 'artist_name', 'artist_location', 'artist_latitude', 'artist_longitude']].values[0].tolist()\n",
    "artist_data"
   ]
  },
  {
   "cell_type": "markdown",
   "metadata": {
    "editable": true
   },
   "source": [
    "#### Insert Record into Artist Table\n",
    "Implement the `artist_table_insert` query in `sql_queries.py` and run the cell below to insert a record for this song's artist into the `artists` table. Remember to run `create_tables.py` before running the cell below to ensure you've created/resetted the `artists` table in the sparkify database."
   ]
  },
  {
   "cell_type": "code",
   "execution_count": 26,
   "metadata": {
    "editable": true
   },
   "outputs": [],
   "source": [
    "cur.execute(artist_table_insert, artist_data)\n",
    "conn.commit()"
   ]
  },
  {
   "cell_type": "markdown",
   "metadata": {
    "editable": true
   },
   "source": [
    "Run `test.ipynb` to see if you've successfully added a record to this table."
   ]
  },
  {
   "cell_type": "markdown",
   "metadata": {
    "editable": true
   },
   "source": [
    "# Process `log_data`\n",
    "In this part, you'll perform ETL on the second dataset, `log_data`, to create the `time` and `users` dimensional tables, as well as the `songplays` fact table.\n",
    "\n",
    "Let's perform ETL on a single log file and load a single record into each table.\n",
    "- Use the `get_files` function provided above to get a list of all log JSON files in `data/log_data`\n",
    "- Select the first log file in this list\n",
    "- Read the log file and view the data"
   ]
  },
  {
   "cell_type": "code",
   "execution_count": 5,
   "metadata": {
    "editable": true
   },
   "outputs": [],
   "source": [
    "log_files = get_files(\"data/log_data\")"
   ]
  },
  {
   "cell_type": "code",
   "execution_count": 6,
   "metadata": {
    "editable": true
   },
   "outputs": [],
   "source": [
    "filepath = log_files[0]"
   ]
  },
  {
   "cell_type": "code",
   "execution_count": 7,
   "metadata": {
    "editable": true
   },
   "outputs": [
    {
     "data": {
      "text/html": [
       "<div>\n",
       "<style scoped>\n",
       "    .dataframe tbody tr th:only-of-type {\n",
       "        vertical-align: middle;\n",
       "    }\n",
       "\n",
       "    .dataframe tbody tr th {\n",
       "        vertical-align: top;\n",
       "    }\n",
       "\n",
       "    .dataframe thead th {\n",
       "        text-align: right;\n",
       "    }\n",
       "</style>\n",
       "<table border=\"1\" class=\"dataframe\">\n",
       "  <thead>\n",
       "    <tr style=\"text-align: right;\">\n",
       "      <th></th>\n",
       "      <th>artist</th>\n",
       "      <th>auth</th>\n",
       "      <th>firstName</th>\n",
       "      <th>gender</th>\n",
       "      <th>itemInSession</th>\n",
       "      <th>lastName</th>\n",
       "      <th>length</th>\n",
       "      <th>level</th>\n",
       "      <th>location</th>\n",
       "      <th>method</th>\n",
       "      <th>page</th>\n",
       "      <th>registration</th>\n",
       "      <th>sessionId</th>\n",
       "      <th>song</th>\n",
       "      <th>status</th>\n",
       "      <th>ts</th>\n",
       "      <th>userAgent</th>\n",
       "      <th>userId</th>\n",
       "    </tr>\n",
       "  </thead>\n",
       "  <tbody>\n",
       "    <tr>\n",
       "      <th>0</th>\n",
       "      <td>Sydney Youngblood</td>\n",
       "      <td>Logged In</td>\n",
       "      <td>Jacob</td>\n",
       "      <td>M</td>\n",
       "      <td>53</td>\n",
       "      <td>Klein</td>\n",
       "      <td>238.07955</td>\n",
       "      <td>paid</td>\n",
       "      <td>Tampa-St. Petersburg-Clearwater, FL</td>\n",
       "      <td>PUT</td>\n",
       "      <td>NextSong</td>\n",
       "      <td>1.540558e+12</td>\n",
       "      <td>954</td>\n",
       "      <td>Ain't No Sunshine</td>\n",
       "      <td>200</td>\n",
       "      <td>1543449657796</td>\n",
       "      <td>\"Mozilla/5.0 (Macintosh; Intel Mac OS X 10_9_4...</td>\n",
       "      <td>73</td>\n",
       "    </tr>\n",
       "    <tr>\n",
       "      <th>1</th>\n",
       "      <td>Gang Starr</td>\n",
       "      <td>Logged In</td>\n",
       "      <td>Layla</td>\n",
       "      <td>F</td>\n",
       "      <td>88</td>\n",
       "      <td>Griffin</td>\n",
       "      <td>151.92771</td>\n",
       "      <td>paid</td>\n",
       "      <td>Lake Havasu City-Kingman, AZ</td>\n",
       "      <td>PUT</td>\n",
       "      <td>NextSong</td>\n",
       "      <td>1.541057e+12</td>\n",
       "      <td>984</td>\n",
       "      <td>My Advice 2 You (Explicit)</td>\n",
       "      <td>200</td>\n",
       "      <td>1543449690796</td>\n",
       "      <td>\"Mozilla/5.0 (Windows NT 6.1; WOW64) AppleWebK...</td>\n",
       "      <td>24</td>\n",
       "    </tr>\n",
       "    <tr>\n",
       "      <th>2</th>\n",
       "      <td>3OH!3</td>\n",
       "      <td>Logged In</td>\n",
       "      <td>Layla</td>\n",
       "      <td>F</td>\n",
       "      <td>89</td>\n",
       "      <td>Griffin</td>\n",
       "      <td>192.52200</td>\n",
       "      <td>paid</td>\n",
       "      <td>Lake Havasu City-Kingman, AZ</td>\n",
       "      <td>PUT</td>\n",
       "      <td>NextSong</td>\n",
       "      <td>1.541057e+12</td>\n",
       "      <td>984</td>\n",
       "      <td>My First Kiss (Feat. Ke$ha) [Album Version]</td>\n",
       "      <td>200</td>\n",
       "      <td>1543449841796</td>\n",
       "      <td>\"Mozilla/5.0 (Windows NT 6.1; WOW64) AppleWebK...</td>\n",
       "      <td>24</td>\n",
       "    </tr>\n",
       "    <tr>\n",
       "      <th>3</th>\n",
       "      <td>RÃÂ¶yksopp</td>\n",
       "      <td>Logged In</td>\n",
       "      <td>Jacob</td>\n",
       "      <td>M</td>\n",
       "      <td>54</td>\n",
       "      <td>Klein</td>\n",
       "      <td>369.81506</td>\n",
       "      <td>paid</td>\n",
       "      <td>Tampa-St. Petersburg-Clearwater, FL</td>\n",
       "      <td>PUT</td>\n",
       "      <td>NextSong</td>\n",
       "      <td>1.540558e+12</td>\n",
       "      <td>954</td>\n",
       "      <td>The Girl and The Robot</td>\n",
       "      <td>200</td>\n",
       "      <td>1543449895796</td>\n",
       "      <td>\"Mozilla/5.0 (Macintosh; Intel Mac OS X 10_9_4...</td>\n",
       "      <td>73</td>\n",
       "    </tr>\n",
       "    <tr>\n",
       "      <th>4</th>\n",
       "      <td>Kajagoogoo</td>\n",
       "      <td>Logged In</td>\n",
       "      <td>Layla</td>\n",
       "      <td>F</td>\n",
       "      <td>90</td>\n",
       "      <td>Griffin</td>\n",
       "      <td>223.55546</td>\n",
       "      <td>paid</td>\n",
       "      <td>Lake Havasu City-Kingman, AZ</td>\n",
       "      <td>PUT</td>\n",
       "      <td>NextSong</td>\n",
       "      <td>1.541057e+12</td>\n",
       "      <td>984</td>\n",
       "      <td>Too Shy</td>\n",
       "      <td>200</td>\n",
       "      <td>1543450033796</td>\n",
       "      <td>\"Mozilla/5.0 (Windows NT 6.1; WOW64) AppleWebK...</td>\n",
       "      <td>24</td>\n",
       "    </tr>\n",
       "  </tbody>\n",
       "</table>\n",
       "</div>"
      ],
      "text/plain": [
       "              artist       auth firstName gender  itemInSession lastName  \\\n",
       "0  Sydney Youngblood  Logged In     Jacob      M             53    Klein   \n",
       "1         Gang Starr  Logged In     Layla      F             88  Griffin   \n",
       "2              3OH!3  Logged In     Layla      F             89  Griffin   \n",
       "3        RÃÂ¶yksopp  Logged In     Jacob      M             54    Klein   \n",
       "4         Kajagoogoo  Logged In     Layla      F             90  Griffin   \n",
       "\n",
       "      length level                             location method      page  \\\n",
       "0  238.07955  paid  Tampa-St. Petersburg-Clearwater, FL    PUT  NextSong   \n",
       "1  151.92771  paid         Lake Havasu City-Kingman, AZ    PUT  NextSong   \n",
       "2  192.52200  paid         Lake Havasu City-Kingman, AZ    PUT  NextSong   \n",
       "3  369.81506  paid  Tampa-St. Petersburg-Clearwater, FL    PUT  NextSong   \n",
       "4  223.55546  paid         Lake Havasu City-Kingman, AZ    PUT  NextSong   \n",
       "\n",
       "   registration  sessionId                                         song  \\\n",
       "0  1.540558e+12        954                            Ain't No Sunshine   \n",
       "1  1.541057e+12        984                   My Advice 2 You (Explicit)   \n",
       "2  1.541057e+12        984  My First Kiss (Feat. Ke$ha) [Album Version]   \n",
       "3  1.540558e+12        954                       The Girl and The Robot   \n",
       "4  1.541057e+12        984                                      Too Shy   \n",
       "\n",
       "   status             ts                                          userAgent  \\\n",
       "0     200  1543449657796  \"Mozilla/5.0 (Macintosh; Intel Mac OS X 10_9_4...   \n",
       "1     200  1543449690796  \"Mozilla/5.0 (Windows NT 6.1; WOW64) AppleWebK...   \n",
       "2     200  1543449841796  \"Mozilla/5.0 (Windows NT 6.1; WOW64) AppleWebK...   \n",
       "3     200  1543449895796  \"Mozilla/5.0 (Macintosh; Intel Mac OS X 10_9_4...   \n",
       "4     200  1543450033796  \"Mozilla/5.0 (Windows NT 6.1; WOW64) AppleWebK...   \n",
       "\n",
       "  userId  \n",
       "0     73  \n",
       "1     24  \n",
       "2     24  \n",
       "3     73  \n",
       "4     24  "
      ]
     },
     "execution_count": 7,
     "metadata": {},
     "output_type": "execute_result"
    }
   ],
   "source": [
    "df = pd.read_json(filepath, lines=True) \n",
    "df.head()"
   ]
  },
  {
   "cell_type": "markdown",
   "metadata": {
    "editable": true
   },
   "source": [
    "## #3: `time` Table\n",
    "#### Extract Data for Time Table\n",
    "- Filter records by `NextSong` action\n",
    "- Convert the `ts` timestamp column to datetime\n",
    "  - Hint: the current timestamp is in milliseconds\n",
    "- Extract the timestamp, hour, day, week of year, month, year, and weekday from the `ts` column and set `time_data` to a list containing these values in order\n",
    "  - Hint: use pandas' [`dt` attribute](https://pandas.pydata.org/pandas-docs/stable/reference/api/pandas.Series.dt.html) to access easily datetimelike properties.\n",
    "- Specify labels for these columns and set to `column_labels`\n",
    "- Create a dataframe, `time_df,` containing the time data for this file by combining `column_labels` and `time_data` into a dictionary and converting this into a dataframe"
   ]
  },
  {
   "cell_type": "code",
   "execution_count": 8,
   "metadata": {
    "editable": true
   },
   "outputs": [
    {
     "data": {
      "text/html": [
       "<div>\n",
       "<style scoped>\n",
       "    .dataframe tbody tr th:only-of-type {\n",
       "        vertical-align: middle;\n",
       "    }\n",
       "\n",
       "    .dataframe tbody tr th {\n",
       "        vertical-align: top;\n",
       "    }\n",
       "\n",
       "    .dataframe thead th {\n",
       "        text-align: right;\n",
       "    }\n",
       "</style>\n",
       "<table border=\"1\" class=\"dataframe\">\n",
       "  <thead>\n",
       "    <tr style=\"text-align: right;\">\n",
       "      <th></th>\n",
       "      <th>artist</th>\n",
       "      <th>auth</th>\n",
       "      <th>firstName</th>\n",
       "      <th>gender</th>\n",
       "      <th>itemInSession</th>\n",
       "      <th>lastName</th>\n",
       "      <th>length</th>\n",
       "      <th>level</th>\n",
       "      <th>location</th>\n",
       "      <th>method</th>\n",
       "      <th>page</th>\n",
       "      <th>registration</th>\n",
       "      <th>sessionId</th>\n",
       "      <th>song</th>\n",
       "      <th>status</th>\n",
       "      <th>ts</th>\n",
       "      <th>userAgent</th>\n",
       "      <th>userId</th>\n",
       "    </tr>\n",
       "  </thead>\n",
       "  <tbody>\n",
       "    <tr>\n",
       "      <th>0</th>\n",
       "      <td>Sydney Youngblood</td>\n",
       "      <td>Logged In</td>\n",
       "      <td>Jacob</td>\n",
       "      <td>M</td>\n",
       "      <td>53</td>\n",
       "      <td>Klein</td>\n",
       "      <td>238.07955</td>\n",
       "      <td>paid</td>\n",
       "      <td>Tampa-St. Petersburg-Clearwater, FL</td>\n",
       "      <td>PUT</td>\n",
       "      <td>NextSong</td>\n",
       "      <td>1.540558e+12</td>\n",
       "      <td>954</td>\n",
       "      <td>Ain't No Sunshine</td>\n",
       "      <td>200</td>\n",
       "      <td>1543449657796</td>\n",
       "      <td>\"Mozilla/5.0 (Macintosh; Intel Mac OS X 10_9_4...</td>\n",
       "      <td>73</td>\n",
       "    </tr>\n",
       "    <tr>\n",
       "      <th>1</th>\n",
       "      <td>Gang Starr</td>\n",
       "      <td>Logged In</td>\n",
       "      <td>Layla</td>\n",
       "      <td>F</td>\n",
       "      <td>88</td>\n",
       "      <td>Griffin</td>\n",
       "      <td>151.92771</td>\n",
       "      <td>paid</td>\n",
       "      <td>Lake Havasu City-Kingman, AZ</td>\n",
       "      <td>PUT</td>\n",
       "      <td>NextSong</td>\n",
       "      <td>1.541057e+12</td>\n",
       "      <td>984</td>\n",
       "      <td>My Advice 2 You (Explicit)</td>\n",
       "      <td>200</td>\n",
       "      <td>1543449690796</td>\n",
       "      <td>\"Mozilla/5.0 (Windows NT 6.1; WOW64) AppleWebK...</td>\n",
       "      <td>24</td>\n",
       "    </tr>\n",
       "    <tr>\n",
       "      <th>2</th>\n",
       "      <td>3OH!3</td>\n",
       "      <td>Logged In</td>\n",
       "      <td>Layla</td>\n",
       "      <td>F</td>\n",
       "      <td>89</td>\n",
       "      <td>Griffin</td>\n",
       "      <td>192.52200</td>\n",
       "      <td>paid</td>\n",
       "      <td>Lake Havasu City-Kingman, AZ</td>\n",
       "      <td>PUT</td>\n",
       "      <td>NextSong</td>\n",
       "      <td>1.541057e+12</td>\n",
       "      <td>984</td>\n",
       "      <td>My First Kiss (Feat. Ke$ha) [Album Version]</td>\n",
       "      <td>200</td>\n",
       "      <td>1543449841796</td>\n",
       "      <td>\"Mozilla/5.0 (Windows NT 6.1; WOW64) AppleWebK...</td>\n",
       "      <td>24</td>\n",
       "    </tr>\n",
       "    <tr>\n",
       "      <th>3</th>\n",
       "      <td>RÃÂ¶yksopp</td>\n",
       "      <td>Logged In</td>\n",
       "      <td>Jacob</td>\n",
       "      <td>M</td>\n",
       "      <td>54</td>\n",
       "      <td>Klein</td>\n",
       "      <td>369.81506</td>\n",
       "      <td>paid</td>\n",
       "      <td>Tampa-St. Petersburg-Clearwater, FL</td>\n",
       "      <td>PUT</td>\n",
       "      <td>NextSong</td>\n",
       "      <td>1.540558e+12</td>\n",
       "      <td>954</td>\n",
       "      <td>The Girl and The Robot</td>\n",
       "      <td>200</td>\n",
       "      <td>1543449895796</td>\n",
       "      <td>\"Mozilla/5.0 (Macintosh; Intel Mac OS X 10_9_4...</td>\n",
       "      <td>73</td>\n",
       "    </tr>\n",
       "    <tr>\n",
       "      <th>4</th>\n",
       "      <td>Kajagoogoo</td>\n",
       "      <td>Logged In</td>\n",
       "      <td>Layla</td>\n",
       "      <td>F</td>\n",
       "      <td>90</td>\n",
       "      <td>Griffin</td>\n",
       "      <td>223.55546</td>\n",
       "      <td>paid</td>\n",
       "      <td>Lake Havasu City-Kingman, AZ</td>\n",
       "      <td>PUT</td>\n",
       "      <td>NextSong</td>\n",
       "      <td>1.541057e+12</td>\n",
       "      <td>984</td>\n",
       "      <td>Too Shy</td>\n",
       "      <td>200</td>\n",
       "      <td>1543450033796</td>\n",
       "      <td>\"Mozilla/5.0 (Windows NT 6.1; WOW64) AppleWebK...</td>\n",
       "      <td>24</td>\n",
       "    </tr>\n",
       "  </tbody>\n",
       "</table>\n",
       "</div>"
      ],
      "text/plain": [
       "              artist       auth firstName gender  itemInSession lastName  \\\n",
       "0  Sydney Youngblood  Logged In     Jacob      M             53    Klein   \n",
       "1         Gang Starr  Logged In     Layla      F             88  Griffin   \n",
       "2              3OH!3  Logged In     Layla      F             89  Griffin   \n",
       "3        RÃÂ¶yksopp  Logged In     Jacob      M             54    Klein   \n",
       "4         Kajagoogoo  Logged In     Layla      F             90  Griffin   \n",
       "\n",
       "      length level                             location method      page  \\\n",
       "0  238.07955  paid  Tampa-St. Petersburg-Clearwater, FL    PUT  NextSong   \n",
       "1  151.92771  paid         Lake Havasu City-Kingman, AZ    PUT  NextSong   \n",
       "2  192.52200  paid         Lake Havasu City-Kingman, AZ    PUT  NextSong   \n",
       "3  369.81506  paid  Tampa-St. Petersburg-Clearwater, FL    PUT  NextSong   \n",
       "4  223.55546  paid         Lake Havasu City-Kingman, AZ    PUT  NextSong   \n",
       "\n",
       "   registration  sessionId                                         song  \\\n",
       "0  1.540558e+12        954                            Ain't No Sunshine   \n",
       "1  1.541057e+12        984                   My Advice 2 You (Explicit)   \n",
       "2  1.541057e+12        984  My First Kiss (Feat. Ke$ha) [Album Version]   \n",
       "3  1.540558e+12        954                       The Girl and The Robot   \n",
       "4  1.541057e+12        984                                      Too Shy   \n",
       "\n",
       "   status             ts                                          userAgent  \\\n",
       "0     200  1543449657796  \"Mozilla/5.0 (Macintosh; Intel Mac OS X 10_9_4...   \n",
       "1     200  1543449690796  \"Mozilla/5.0 (Windows NT 6.1; WOW64) AppleWebK...   \n",
       "2     200  1543449841796  \"Mozilla/5.0 (Windows NT 6.1; WOW64) AppleWebK...   \n",
       "3     200  1543449895796  \"Mozilla/5.0 (Macintosh; Intel Mac OS X 10_9_4...   \n",
       "4     200  1543450033796  \"Mozilla/5.0 (Windows NT 6.1; WOW64) AppleWebK...   \n",
       "\n",
       "  userId  \n",
       "0     73  \n",
       "1     24  \n",
       "2     24  \n",
       "3     73  \n",
       "4     24  "
      ]
     },
     "execution_count": 8,
     "metadata": {},
     "output_type": "execute_result"
    }
   ],
   "source": [
    "df = df[df.page == \"NextSong\"]\n",
    "df.head()"
   ]
  },
  {
   "cell_type": "code",
   "execution_count": 10,
   "metadata": {
    "editable": true
   },
   "outputs": [
    {
     "data": {
      "text/plain": [
       "319"
      ]
     },
     "execution_count": 10,
     "metadata": {},
     "output_type": "execute_result"
    }
   ],
   "source": [
    "t = pd.to_datetime(df['ts'], unit='ms')\n",
    "t.head()\n",
    "len(t)"
   ]
  },
  {
   "cell_type": "code",
   "execution_count": 11,
   "metadata": {
    "editable": true
   },
   "outputs": [
    {
     "data": {
      "text/plain": [
       "319"
      ]
     },
     "execution_count": 11,
     "metadata": {},
     "output_type": "execute_result"
    }
   ],
   "source": [
    "t = t.drop_duplicates(keep=\"last\")\n",
    "len(t)"
   ]
  },
  {
   "cell_type": "code",
   "execution_count": 29,
   "metadata": {
    "editable": true
   },
   "outputs": [
    {
     "data": {
      "text/plain": [
       "'[1543449657796,1543449690796,1543449841796,1543449895796,1543450033796,1543450256796,1543450264796,1543450450796,1543450562796,1543450691796,1543450933796,1543451175796,1543451453796,1543451707796,1543452014796,1543452253796,1543452394796,1543452588796,1543453030796,1543453332796,1543453596796,1543453763796,1543453798796,1543454037796,1543454254796,1543454533796,1543454778796,1543455073796,1543455218796,1543455510796,1543455747796,1543455764796,1543456010796,1543456346796,1543456517796,1543458271796,1543458485796,1543458671796,1543458973796,1543459210796,1543460277796,1543460442796,1543460835796,1543465425796,1543465636796,1543465913796,1543467355796,1543467608796,1543479522796,1543479789796,1543483675796,1543489167796,1543489392796,1543489411796,1543489639796,1543489857796,1543494067796,1543497251796,1543499081796,1543499104796,1543499907796,1543499974796,1543499981796,1543500081796,1543500313796,1543500608796,1543500844796,1543501070796,1543501334796,1543501583796,1543501951796,1543502144796,1543502436796,1543502609796,1543502867796,1543503072796,1543503345796,1543503472796,1543503713796,1543503771796,1543503847796,1543503949796,1543504012796,1543504184796,1543504254796,1543504268796,1543504295796,1543504307796,1543504368796,1543504474796,1543504528796,1543504536796,1543504573796,1543504738796,1543504772796,1543504830796,1543504839796,1543504840796,1543504958796,1543505055796,1543505089796,1543505090796,1543505200796,1543505200796,1543505221796,1543505257796,1543505381796,1543505401796,1543505457796,1543505618796,1543505656796,1543505792796,1543505836796,1543505979796,1543506077796,1543506117796,1543506338796,1543506341796,1543506556796,1543506578796,1543506819796,1543506852796,1543507055796,1543507075796,1543507201796,1543507253796,1543507446796,1543507540796,1543507627796,1543507751796,1543507764796,1543507889796,1543508003796,1543508134796,1543508305796,1543508370796,1543508544796,1543508607796,1543508781796,1543508892796,1543509005796,1543509079796,1543509243796,1543509405796,1543509509796,1543509632796,1543509693796,1543509697796,1543509879796,1543509938796,1543510028796,1543510058796,1543510062796,1543510165796,1543510216796,1543510462796,1543510467796,1543510481796,1543510514796,1543510681796,1543510683796,1543510691796,1543510881796,1543510894796,1543510901796,1543510909796,1543510931796,1543510957796,1543511110796,1543511120796,1543511126796,1543511176796,1543511208796,1543511353796,1543511354796,1543511414796,1543511554796,1543511635796,1543511662796,1543511771796,1543511881796,1543511913796,1543511966796,1543512121796,1543512147796,1543512181796,1543512272796,1543512344796,1543512443796,1543512518796,1543512687796,1543512720796,1543512802796,1543512929796,1543512951796,1543513171796,1543513188796,1543513243796,1543513249796,1543513262796,1543513314796,1543513332796,1543513401796,1543513534796,1543513551796,1543513705796,1543513787796,1543513811796,1543513872796,1543513938796,1543514025796,1543514154796,1543514189796,1543514278796,1543514338796,1543514393796,1543514497796,1543514598796,1543514618796,1543514739796,1543514875796,1543514877796,1543514941796,1543515060796,1543515175796,1543515182796,1543515225796,1543515284796,1543515453796,1543515489796,1543515672796,1543515673796,1543515684796,1543515712796,1543515736796,1543515737796,1543515737796,1543515768796,1543515869796,1543515878796,1543515987796,1543516013796,1543516044796,1543516114796,1543516190796,1543516215796,1543516384796,1543516415796,1543516645796,1543516649796,1543516673796,1543516869796,1543517011796,1543517170796,1543517250796,1543517454796,1543517520796,1543517724796,1543517730796,1543517913796,1543518017796,1543518100796,1543518238796,1543518284796,1543518384796,1543518387796,1543518521796,1543518587796,1543518699796,1543518784796,1543518896796,1543518933796,1543518934796,1543518958796,1543518959796,1543519085796,1543519168796,1543519207796,1543519479796,1543519591796,1543519677796,1543520246796,1543520417796,1543520718796,1543520732796,1543520733796,1543521370796,1543521962796,1543522138796,1543522267796,1543522473796,1543522715796,1543522901796,1543523119796,1543523363796,1543523673796,1543523921796,1543523950796,1543524186796,1543524187796,1543524407796,1543524414796,1543524670796,1543524725796,1543524847796,1543524881796,1543525124796,1543525203796,1543525267796,1543525400796,1543525563796,1543525595796,1543525760796,1543525976796,1543525996796,1543526007796,1543526056796,1543526089796,1543526213796,1543526250796,1543526358796,1543526457796,1543526507796,1543526538796,1543526643796,1543526675796,1543526820796,1543526868796,1543526870796,1543526871796,1543526901796,1543526902796,1543526969796,1543527047796,1543527094796,1543527215796,1543527265796,1543527268796,1543527488796,1543527730796,1543528009796,1543528377796,1543528636796,1543528831796,1543529196796,1543529397796,1543529417796,1543529595796,1543529618796,1543529858796,1543530091796,1543530350796,1543530451796,1543530769796,1543530944796,1543531178796,1543531372796,1543531583796,1543531827796,1543531878796,1543532012796,1543532195796,1543532242796,1543532525796,1543532713796,1543533515796]'"
      ]
     },
     "execution_count": 29,
     "metadata": {},
     "output_type": "execute_result"
    }
   ],
   "source": [
    "time_log = t.to_json(orient='values')\n",
    "# print(json.loads(time_log)[9])\n",
    "# print(datetime.datetime.fromtimestamp(json.loads(time_log)[5]/1000.0).isocalendar()[1])"
   ]
  },
  {
   "cell_type": "code",
   "execution_count": 13,
   "metadata": {
    "editable": true
   },
   "outputs": [],
   "source": [
    "def clean_csv_value(value: Optional[Any]) -> str:\n",
    "    if value is None:\n",
    "        return r'\\N'\n",
    "    return str(value).replace('\\n', '\\\\n')\n",
    "\n",
    "class StringIteratorIO(io.TextIOBase):\n",
    "    def __init__(self, iter: Iterator[str]):\n",
    "        self._iter = iter\n",
    "        self._buff = ''\n",
    "\n",
    "    def readable(self) -> bool:\n",
    "        return True\n",
    "\n",
    "    def _read1(self, n: Optional[int] = None) -> str:\n",
    "        while not self._buff:\n",
    "            try:\n",
    "                self._buff = next(self._iter)\n",
    "            except StopIteration:\n",
    "                break\n",
    "        ret = self._buff[:n]\n",
    "        self._buff = self._buff[len(ret):]\n",
    "        return ret\n",
    "\n",
    "    def read(self, n: Optional[int] = None) -> str:\n",
    "        line = []\n",
    "        if n is None or n < 0:\n",
    "            while True:\n",
    "                m = self._read1()\n",
    "                if not m:\n",
    "                    break\n",
    "                line.append(m)\n",
    "        else:\n",
    "            while n > 0:\n",
    "                m = self._read1(n)\n",
    "                if not m:\n",
    "                    break\n",
    "                n -= len(m)\n",
    "                line.append(m)\n",
    "        return ''.join(line)\n",
    "    "
   ]
  },
  {
   "cell_type": "code",
   "execution_count": 36,
   "metadata": {
    "editable": true
   },
   "outputs": [
    {
     "data": {
      "text/plain": [
       "'2018-11-29 00:00:57.796000|0|29|48|11|2018|3\\n2018-11-29 00:01:30.796000|0|29|48|11|2018|3\\n2018-11-29 00:04:01.796000|0|29|48|11|2018|3\\n2018-11-29 00:04:55.796000|0|29|48|11|2018|3\\n2018-11-29 00:07:13.796000|0|29|48|11|2018|3\\n2018-11-29 00:10:56.796000|0|29|48|11|2018|3\\n2018-11-29 00:11:04.796000|0|29|48|11|2018|3\\n2018-11-29 00:14:10.796000|0|29|48|11|2018|3\\n2018-11-29 00:16:02.796000|0|29|48|11|2018|3\\n2018-11-29 00:18:11.796000|0|29|48|11|2018|3\\n2018-11-29 00:22:13.796000|0|29|48|11|2018|3\\n2018-11-29 00:26:15.796000|0|29|48|11|2018|3\\n2018-11-29 00:30:53.796000|0|29|48|11|2018|3\\n2018-11-29 00:35:07.796000|0|29|48|11|2018|3\\n2018-11-29 00:40:14.796000|0|29|48|11|2018|3\\n2018-11-29 00:44:13.796000|0|29|48|11|2018|3\\n2018-11-29 00:46:34.796000|0|29|48|11|2018|3\\n2018-11-29 00:49:48.796000|0|29|48|11|2018|3\\n2018-11-29 00:57:10.796000|0|29|48|11|2018|3\\n2018-11-29 01:02:12.796000|1|29|48|11|2018|3\\n2018-11-29 01:06:36.796000|1|29|48|11|2018|3\\n2018-11-29 01:09:23.796000|1|29|48|11|2018|3\\n2018-11-29 01:09:58.796000|1|29|48|11|2018|3\\n2018-11-29 01:13:57.796000|1|29|48|11|2018|3\\n2018-11-29 01:17:34.796000|1|29|48|11|2018|3\\n2018-11-29 01:22:13.796000|1|29|48|11|2018|3\\n2018-11-29 01:26:18.796000|1|29|48|11|2018|3\\n2018-11-29 01:31:13.796000|1|29|48|11|2018|3\\n2018-11-29 01:33:38.796000|1|29|48|11|2018|3\\n2018-11-29 01:38:30.796000|1|29|48|11|2018|3\\n2018-11-29 01:42:27.796000|1|29|48|11|2018|3\\n2018-11-29 01:42:44.796000|1|29|48|11|2018|3\\n2018-11-29 01:46:50.796000|1|29|48|11|2018|3\\n2018-11-29 01:52:26.796000|1|29|48|11|2018|3\\n2018-11-29 01:55:17.796000|1|29|48|11|2018|3\\n2018-11-29 02:24:31.796000|2|29|48|11|2018|3\\n2018-11-29 02:28:05.796000|2|29|48|11|2018|3\\n2018-11-29 02:31:11.796000|2|29|48|11|2018|3\\n2018-11-29 02:36:13.796000|2|29|48|11|2018|3\\n2018-11-29 02:40:10.796000|2|29|48|11|2018|3\\n2018-11-29 02:57:57.796000|2|29|48|11|2018|3\\n2018-11-29 03:00:42.796000|3|29|48|11|2018|3\\n2018-11-29 03:07:15.796000|3|29|48|11|2018|3\\n2018-11-29 04:23:45.796000|4|29|48|11|2018|3\\n2018-11-29 04:27:16.796000|4|29|48|11|2018|3\\n2018-11-29 04:31:53.796000|4|29|48|11|2018|3\\n2018-11-29 04:55:55.796000|4|29|48|11|2018|3\\n2018-11-29 05:00:08.796000|5|29|48|11|2018|3\\n2018-11-29 08:18:42.796000|8|29|48|11|2018|3\\n2018-11-29 08:23:09.796000|8|29|48|11|2018|3\\n2018-11-29 09:27:55.796000|9|29|48|11|2018|3\\n2018-11-29 10:59:27.796000|10|29|48|11|2018|3\\n2018-11-29 11:03:12.796000|11|29|48|11|2018|3\\n2018-11-29 11:03:31.796000|11|29|48|11|2018|3\\n2018-11-29 11:07:19.796000|11|29|48|11|2018|3\\n2018-11-29 11:10:57.796000|11|29|48|11|2018|3\\n2018-11-29 12:21:07.796000|12|29|48|11|2018|3\\n2018-11-29 13:14:11.796000|13|29|48|11|2018|3\\n2018-11-29 13:44:41.796000|13|29|48|11|2018|3\\n2018-11-29 13:45:04.796000|13|29|48|11|2018|3\\n2018-11-29 13:58:27.796000|13|29|48|11|2018|3\\n2018-11-29 13:59:34.796000|13|29|48|11|2018|3\\n2018-11-29 13:59:41.796000|13|29|48|11|2018|3\\n2018-11-29 14:01:21.796000|14|29|48|11|2018|3\\n2018-11-29 14:05:13.796000|14|29|48|11|2018|3\\n2018-11-29 14:10:08.796000|14|29|48|11|2018|3\\n2018-11-29 14:14:04.796000|14|29|48|11|2018|3\\n2018-11-29 14:17:50.796000|14|29|48|11|2018|3\\n2018-11-29 14:22:14.796000|14|29|48|11|2018|3\\n2018-11-29 14:26:23.796000|14|29|48|11|2018|3\\n2018-11-29 14:32:31.796000|14|29|48|11|2018|3\\n2018-11-29 14:35:44.796000|14|29|48|11|2018|3\\n2018-11-29 14:40:36.796000|14|29|48|11|2018|3\\n2018-11-29 14:43:29.796000|14|29|48|11|2018|3\\n2018-11-29 14:47:47.796000|14|29|48|11|2018|3\\n2018-11-29 14:51:12.796000|14|29|48|11|2018|3\\n2018-11-29 14:55:45.796000|14|29|48|11|2018|3\\n2018-11-29 14:57:52.796000|14|29|48|11|2018|3\\n2018-11-29 15:01:53.796000|15|29|48|11|2018|3\\n2018-11-29 15:02:51.796000|15|29|48|11|2018|3\\n2018-11-29 15:04:07.796000|15|29|48|11|2018|3\\n2018-11-29 15:05:49.796000|15|29|48|11|2018|3\\n2018-11-29 15:06:52.796000|15|29|48|11|2018|3\\n2018-11-29 15:09:44.796000|15|29|48|11|2018|3\\n2018-11-29 15:10:54.796000|15|29|48|11|2018|3\\n2018-11-29 15:11:08.796000|15|29|48|11|2018|3\\n2018-11-29 15:11:35.796000|15|29|48|11|2018|3\\n2018-11-29 15:11:47.796000|15|29|48|11|2018|3\\n2018-11-29 15:12:48.796000|15|29|48|11|2018|3\\n2018-11-29 15:14:34.796000|15|29|48|11|2018|3\\n2018-11-29 15:15:28.796000|15|29|48|11|2018|3\\n2018-11-29 15:15:36.796000|15|29|48|11|2018|3\\n2018-11-29 15:16:13.796000|15|29|48|11|2018|3\\n2018-11-29 15:18:58.796000|15|29|48|11|2018|3\\n2018-11-29 15:19:32.796000|15|29|48|11|2018|3\\n2018-11-29 15:20:30.796000|15|29|48|11|2018|3\\n2018-11-29 15:20:39.796000|15|29|48|11|2018|3\\n2018-11-29 15:20:40.796000|15|29|48|11|2018|3\\n2018-11-29 15:22:38.796000|15|29|48|11|2018|3\\n2018-11-29 15:24:15.796000|15|29|48|11|2018|3\\n2018-11-29 15:24:49.796000|15|29|48|11|2018|3\\n2018-11-29 15:24:50.796000|15|29|48|11|2018|3\\n2018-11-29 15:26:40.796000|15|29|48|11|2018|3\\n2018-11-29 15:26:40.796000|15|29|48|11|2018|3\\n2018-11-29 15:27:01.796000|15|29|48|11|2018|3\\n2018-11-29 15:27:37.796000|15|29|48|11|2018|3\\n2018-11-29 15:29:41.796000|15|29|48|11|2018|3\\n2018-11-29 15:30:01.796000|15|29|48|11|2018|3\\n2018-11-29 15:30:57.796000|15|29|48|11|2018|3\\n2018-11-29 15:33:38.796000|15|29|48|11|2018|3\\n2018-11-29 15:34:16.796000|15|29|48|11|2018|3\\n2018-11-29 15:36:32.796000|15|29|48|11|2018|3\\n2018-11-29 15:37:16.796000|15|29|48|11|2018|3\\n2018-11-29 15:39:39.796000|15|29|48|11|2018|3\\n2018-11-29 15:41:17.796000|15|29|48|11|2018|3\\n2018-11-29 15:41:57.796000|15|29|48|11|2018|3\\n2018-11-29 15:45:38.796000|15|29|48|11|2018|3\\n2018-11-29 15:45:41.796000|15|29|48|11|2018|3\\n2018-11-29 15:49:16.796000|15|29|48|11|2018|3\\n2018-11-29 15:49:38.796000|15|29|48|11|2018|3\\n2018-11-29 15:53:39.796000|15|29|48|11|2018|3\\n2018-11-29 15:54:12.796000|15|29|48|11|2018|3\\n2018-11-29 15:57:35.796000|15|29|48|11|2018|3\\n2018-11-29 15:57:55.796000|15|29|48|11|2018|3\\n2018-11-29 16:00:01.796000|16|29|48|11|2018|3\\n2018-11-29 16:00:53.796000|16|29|48|11|2018|3\\n2018-11-29 16:04:06.796000|16|29|48|11|2018|3\\n2018-11-29 16:05:40.796000|16|29|48|11|2018|3\\n2018-11-29 16:07:07.796000|16|29|48|11|2018|3\\n2018-11-29 16:09:11.796000|16|29|48|11|2018|3\\n2018-11-29 16:09:24.796000|16|29|48|11|2018|3\\n2018-11-29 16:11:29.796000|16|29|48|11|2018|3\\n2018-11-29 16:13:23.796000|16|29|48|11|2018|3\\n2018-11-29 16:15:34.796000|16|29|48|11|2018|3\\n2018-11-29 16:18:25.796000|16|29|48|11|2018|3\\n2018-11-29 16:19:30.796000|16|29|48|11|2018|3\\n2018-11-29 16:22:24.796000|16|29|48|11|2018|3\\n2018-11-29 16:23:27.796000|16|29|48|11|2018|3\\n2018-11-29 16:26:21.796000|16|29|48|11|2018|3\\n2018-11-29 16:28:12.796000|16|29|48|11|2018|3\\n2018-11-29 16:30:05.796000|16|29|48|11|2018|3\\n2018-11-29 16:31:19.796000|16|29|48|11|2018|3\\n2018-11-29 16:34:03.796000|16|29|48|11|2018|3\\n2018-11-29 16:36:45.796000|16|29|48|11|2018|3\\n2018-11-29 16:38:29.796000|16|29|48|11|2018|3\\n2018-11-29 16:40:32.796000|16|29|48|11|2018|3\\n2018-11-29 16:41:33.796000|16|29|48|11|2018|3\\n2018-11-29 16:41:37.796000|16|29|48|11|2018|3\\n2018-11-29 16:44:39.796000|16|29|48|11|2018|3\\n2018-11-29 16:45:38.796000|16|29|48|11|2018|3\\n2018-11-29 16:47:08.796000|16|29|48|11|2018|3\\n2018-11-29 16:47:38.796000|16|29|48|11|2018|3\\n2018-11-29 16:47:42.796000|16|29|48|11|2018|3\\n2018-11-29 16:49:25.796000|16|29|48|11|2018|3\\n2018-11-29 16:50:16.796000|16|29|48|11|2018|3\\n2018-11-29 16:54:22.796000|16|29|48|11|2018|3\\n2018-11-29 16:54:27.796000|16|29|48|11|2018|3\\n2018-11-29 16:54:41.796000|16|29|48|11|2018|3\\n2018-11-29 16:55:14.796000|16|29|48|11|2018|3\\n2018-11-29 16:58:01.796000|16|29|48|11|2018|3\\n2018-11-29 16:58:03.796000|16|29|48|11|2018|3\\n2018-11-29 16:58:11.796000|16|29|48|11|2018|3\\n2018-11-29 17:01:21.796000|17|29|48|11|2018|3\\n2018-11-29 17:01:34.796000|17|29|48|11|2018|3\\n2018-11-29 17:01:41.796000|17|29|48|11|2018|3\\n2018-11-29 17:01:49.796000|17|29|48|11|2018|3\\n2018-11-29 17:02:11.796000|17|29|48|11|2018|3\\n2018-11-29 17:02:37.796000|17|29|48|11|2018|3\\n2018-11-29 17:05:10.796000|17|29|48|11|2018|3\\n2018-11-29 17:05:20.796000|17|29|48|11|2018|3\\n2018-11-29 17:05:26.796000|17|29|48|11|2018|3\\n2018-11-29 17:06:16.796000|17|29|48|11|2018|3\\n2018-11-29 17:06:48.796000|17|29|48|11|2018|3\\n2018-11-29 17:09:13.796000|17|29|48|11|2018|3\\n2018-11-29 17:09:14.796000|17|29|48|11|2018|3\\n2018-11-29 17:10:14.796000|17|29|48|11|2018|3\\n2018-11-29 17:12:34.796000|17|29|48|11|2018|3\\n2018-11-29 17:13:55.796000|17|29|48|11|2018|3\\n2018-11-29 17:14:22.796000|17|29|48|11|2018|3\\n2018-11-29 17:16:11.796000|17|29|48|11|2018|3\\n2018-11-29 17:18:01.796000|17|29|48|11|2018|3\\n2018-11-29 17:18:33.796000|17|29|48|11|2018|3\\n2018-11-29 17:19:26.796000|17|29|48|11|2018|3\\n2018-11-29 17:22:01.796000|17|29|48|11|2018|3\\n2018-11-29 17:22:27.796000|17|29|48|11|2018|3\\n2018-11-29 17:23:01.796000|17|29|48|11|2018|3\\n2018-11-29 17:24:32.796000|17|29|48|11|2018|3\\n2018-11-29 17:25:44.796000|17|29|48|11|2018|3\\n2018-11-29 17:27:23.796000|17|29|48|11|2018|3\\n2018-11-29 17:28:38.796000|17|29|48|11|2018|3\\n2018-11-29 17:31:27.796000|17|29|48|11|2018|3\\n2018-11-29 17:32:00.796000|17|29|48|11|2018|3\\n2018-11-29 17:33:22.796000|17|29|48|11|2018|3\\n2018-11-29 17:35:29.796000|17|29|48|11|2018|3\\n2018-11-29 17:35:51.796000|17|29|48|11|2018|3\\n2018-11-29 17:39:31.796000|17|29|48|11|2018|3\\n2018-11-29 17:39:48.796000|17|29|48|11|2018|3\\n2018-11-29 17:40:43.796000|17|29|48|11|2018|3\\n2018-11-29 17:40:49.796000|17|29|48|11|2018|3\\n2018-11-29 17:41:02.796000|17|29|48|11|2018|3\\n2018-11-29 17:41:54.796000|17|29|48|11|2018|3\\n2018-11-29 17:42:12.796000|17|29|48|11|2018|3\\n2018-11-29 17:43:21.796000|17|29|48|11|2018|3\\n2018-11-29 17:45:34.796000|17|29|48|11|2018|3\\n2018-11-29 17:45:51.796000|17|29|48|11|2018|3\\n2018-11-29 17:48:25.796000|17|29|48|11|2018|3\\n2018-11-29 17:49:47.796000|17|29|48|11|2018|3\\n2018-11-29 17:50:11.796000|17|29|48|11|2018|3\\n2018-11-29 17:51:12.796000|17|29|48|11|2018|3\\n2018-11-29 17:52:18.796000|17|29|48|11|2018|3\\n2018-11-29 17:53:45.796000|17|29|48|11|2018|3\\n2018-11-29 17:55:54.796000|17|29|48|11|2018|3\\n2018-11-29 17:56:29.796000|17|29|48|11|2018|3\\n2018-11-29 17:57:58.796000|17|29|48|11|2018|3\\n2018-11-29 17:58:58.796000|17|29|48|11|2018|3\\n2018-11-29 17:59:53.796000|17|29|48|11|2018|3\\n2018-11-29 18:01:37.796000|18|29|48|11|2018|3\\n2018-11-29 18:03:18.796000|18|29|48|11|2018|3\\n2018-11-29 18:03:38.796000|18|29|48|11|2018|3\\n2018-11-29 18:05:39.796000|18|29|48|11|2018|3\\n2018-11-29 18:07:55.796000|18|29|48|11|2018|3\\n2018-11-29 18:07:57.796000|18|29|48|11|2018|3\\n2018-11-29 18:09:01.796000|18|29|48|11|2018|3\\n2018-11-29 18:11:00.796000|18|29|48|11|2018|3\\n2018-11-29 18:12:55.796000|18|29|48|11|2018|3\\n2018-11-29 18:13:02.796000|18|29|48|11|2018|3\\n2018-11-29 18:13:45.796000|18|29|48|11|2018|3\\n2018-11-29 18:14:44.796000|18|29|48|11|2018|3\\n2018-11-29 18:17:33.796000|18|29|48|11|2018|3\\n2018-11-29 18:18:09.796000|18|29|48|11|2018|3\\n2018-11-29 18:21:12.796000|18|29|48|11|2018|3\\n2018-11-29 18:21:13.796000|18|29|48|11|2018|3\\n2018-11-29 18:21:24.796000|18|29|48|11|2018|3\\n2018-11-29 18:21:52.796000|18|29|48|11|2018|3\\n2018-11-29 18:22:16.796000|18|29|48|11|2018|3\\n2018-11-29 18:22:17.796000|18|29|48|11|2018|3\\n2018-11-29 18:22:17.796000|18|29|48|11|2018|3\\n2018-11-29 18:22:48.796000|18|29|48|11|2018|3\\n2018-11-29 18:24:29.796000|18|29|48|11|2018|3\\n2018-11-29 18:24:38.796000|18|29|48|11|2018|3\\n2018-11-29 18:26:27.796000|18|29|48|11|2018|3\\n2018-11-29 18:26:53.796000|18|29|48|11|2018|3\\n2018-11-29 18:27:24.796000|18|29|48|11|2018|3\\n2018-11-29 18:28:34.796000|18|29|48|11|2018|3\\n2018-11-29 18:29:50.796000|18|29|48|11|2018|3\\n2018-11-29 18:30:15.796000|18|29|48|11|2018|3\\n2018-11-29 18:33:04.796000|18|29|48|11|2018|3\\n2018-11-29 18:33:35.796000|18|29|48|11|2018|3\\n2018-11-29 18:37:25.796000|18|29|48|11|2018|3\\n2018-11-29 18:37:29.796000|18|29|48|11|2018|3\\n2018-11-29 18:37:53.796000|18|29|48|11|2018|3\\n2018-11-29 18:41:09.796000|18|29|48|11|2018|3\\n2018-11-29 18:43:31.796000|18|29|48|11|2018|3\\n2018-11-29 18:46:10.796000|18|29|48|11|2018|3\\n2018-11-29 18:47:30.796000|18|29|48|11|2018|3\\n2018-11-29 18:50:54.796000|18|29|48|11|2018|3\\n2018-11-29 18:52:00.796000|18|29|48|11|2018|3\\n2018-11-29 18:55:24.796000|18|29|48|11|2018|3\\n2018-11-29 18:55:30.796000|18|29|48|11|2018|3\\n2018-11-29 18:58:33.796000|18|29|48|11|2018|3\\n2018-11-29 19:00:17.796000|19|29|48|11|2018|3\\n2018-11-29 19:01:40.796000|19|29|48|11|2018|3\\n2018-11-29 19:03:58.796000|19|29|48|11|2018|3\\n2018-11-29 19:04:44.796000|19|29|48|11|2018|3\\n2018-11-29 19:06:24.796000|19|29|48|11|2018|3\\n2018-11-29 19:06:27.796000|19|29|48|11|2018|3\\n2018-11-29 19:08:41.796000|19|29|48|11|2018|3\\n2018-11-29 19:09:47.796000|19|29|48|11|2018|3\\n2018-11-29 19:11:39.796000|19|29|48|11|2018|3\\n2018-11-29 19:13:04.796000|19|29|48|11|2018|3\\n2018-11-29 19:14:56.796000|19|29|48|11|2018|3\\n2018-11-29 19:15:33.796000|19|29|48|11|2018|3\\n2018-11-29 19:15:34.796000|19|29|48|11|2018|3\\n2018-11-29 19:15:58.796000|19|29|48|11|2018|3\\n2018-11-29 19:15:59.796000|19|29|48|11|2018|3\\n2018-11-29 19:18:05.796000|19|29|48|11|2018|3\\n2018-11-29 19:19:28.796000|19|29|48|11|2018|3\\n2018-11-29 19:20:07.796000|19|29|48|11|2018|3\\n2018-11-29 19:24:39.796000|19|29|48|11|2018|3\\n2018-11-29 19:26:31.796000|19|29|48|11|2018|3\\n2018-11-29 19:27:57.796000|19|29|48|11|2018|3\\n2018-11-29 19:37:26.796000|19|29|48|11|2018|3\\n2018-11-29 19:40:17.796000|19|29|48|11|2018|3\\n2018-11-29 19:45:18.796000|19|29|48|11|2018|3\\n2018-11-29 19:45:32.796000|19|29|48|11|2018|3\\n2018-11-29 19:45:33.796000|19|29|48|11|2018|3\\n2018-11-29 19:56:10.796000|19|29|48|11|2018|3\\n2018-11-29 20:06:02.796000|20|29|48|11|2018|3\\n2018-11-29 20:08:58.796000|20|29|48|11|2018|3\\n2018-11-29 20:11:07.796000|20|29|48|11|2018|3\\n2018-11-29 20:14:33.796000|20|29|48|11|2018|3\\n2018-11-29 20:18:35.796000|20|29|48|11|2018|3\\n2018-11-29 20:21:41.796000|20|29|48|11|2018|3\\n2018-11-29 20:25:19.796000|20|29|48|11|2018|3\\n2018-11-29 20:29:23.796000|20|29|48|11|2018|3\\n2018-11-29 20:34:33.796000|20|29|48|11|2018|3\\n2018-11-29 20:38:41.796000|20|29|48|11|2018|3\\n2018-11-29 20:39:10.796000|20|29|48|11|2018|3\\n2018-11-29 20:43:06.796000|20|29|48|11|2018|3\\n2018-11-29 20:43:07.796000|20|29|48|11|2018|3\\n2018-11-29 20:46:47.796000|20|29|48|11|2018|3\\n2018-11-29 20:46:54.796000|20|29|48|11|2018|3\\n2018-11-29 20:51:10.796000|20|29|48|11|2018|3\\n2018-11-29 20:52:05.796000|20|29|48|11|2018|3\\n2018-11-29 20:54:07.796000|20|29|48|11|2018|3\\n2018-11-29 20:54:41.796000|20|29|48|11|2018|3\\n2018-11-29 20:58:44.796000|20|29|48|11|2018|3\\n2018-11-29 21:00:03.796000|21|29|48|11|2018|3\\n2018-11-29 21:01:07.796000|21|29|48|11|2018|3\\n2018-11-29 21:03:20.796000|21|29|48|11|2018|3\\n2018-11-29 21:06:03.796000|21|29|48|11|2018|3\\n2018-11-29 21:06:35.796000|21|29|48|11|2018|3\\n2018-11-29 21:09:20.796000|21|29|48|11|2018|3\\n2018-11-29 21:12:56.796000|21|29|48|11|2018|3\\n2018-11-29 21:13:16.796000|21|29|48|11|2018|3\\n2018-11-29 21:13:27.796000|21|29|48|11|2018|3\\n2018-11-29 21:14:16.796000|21|29|48|11|2018|3\\n2018-11-29 21:14:49.796000|21|29|48|11|2018|3\\n2018-11-29 21:16:53.796000|21|29|48|11|2018|3\\n2018-11-29 21:17:30.796000|21|29|48|11|2018|3\\n2018-11-29 21:19:18.796000|21|29|48|11|2018|3\\n2018-11-29 21:20:57.796000|21|29|48|11|2018|3\\n2018-11-29 21:21:47.796000|21|29|48|11|2018|3\\n2018-11-29 21:22:18.796000|21|29|48|11|2018|3\\n2018-11-29 21:24:03.796000|21|29|48|11|2018|3\\n2018-11-29 21:24:35.796000|21|29|48|11|2018|3\\n2018-11-29 21:27:00.796000|21|29|48|11|2018|3\\n2018-11-29 21:27:48.796000|21|29|48|11|2018|3\\n2018-11-29 21:27:50.796000|21|29|48|11|2018|3\\n2018-11-29 21:27:51.796000|21|29|48|11|2018|3\\n2018-11-29 21:28:21.796000|21|29|48|11|2018|3\\n2018-11-29 21:28:22.796000|21|29|48|11|2018|3\\n2018-11-29 21:29:29.796000|21|29|48|11|2018|3\\n2018-11-29 21:30:47.796000|21|29|48|11|2018|3\\n2018-11-29 21:31:34.796000|21|29|48|11|2018|3\\n2018-11-29 21:33:35.796000|21|29|48|11|2018|3\\n2018-11-29 21:34:25.796000|21|29|48|11|2018|3\\n2018-11-29 21:34:28.796000|21|29|48|11|2018|3\\n2018-11-29 21:38:08.796000|21|29|48|11|2018|3\\n2018-11-29 21:42:10.796000|21|29|48|11|2018|3\\n2018-11-29 21:46:49.796000|21|29|48|11|2018|3\\n2018-11-29 21:52:57.796000|21|29|48|11|2018|3\\n2018-11-29 21:57:16.796000|21|29|48|11|2018|3\\n2018-11-29 22:00:31.796000|22|29|48|11|2018|3\\n2018-11-29 22:06:36.796000|22|29|48|11|2018|3\\n2018-11-29 22:09:57.796000|22|29|48|11|2018|3\\n2018-11-29 22:10:17.796000|22|29|48|11|2018|3\\n2018-11-29 22:13:15.796000|22|29|48|11|2018|3\\n2018-11-29 22:13:38.796000|22|29|48|11|2018|3\\n2018-11-29 22:17:38.796000|22|29|48|11|2018|3\\n2018-11-29 22:21:31.796000|22|29|48|11|2018|3\\n2018-11-29 22:25:50.796000|22|29|48|11|2018|3\\n2018-11-29 22:27:31.796000|22|29|48|11|2018|3\\n2018-11-29 22:32:49.796000|22|29|48|11|2018|3\\n2018-11-29 22:35:44.796000|22|29|48|11|2018|3\\n2018-11-29 22:39:38.796000|22|29|48|11|2018|3\\n2018-11-29 22:42:52.796000|22|29|48|11|2018|3\\n2018-11-29 22:46:23.796000|22|29|48|11|2018|3\\n2018-11-29 22:50:27.796000|22|29|48|11|2018|3\\n2018-11-29 22:51:18.796000|22|29|48|11|2018|3\\n2018-11-29 22:53:32.796000|22|29|48|11|2018|3\\n2018-11-29 22:56:35.796000|22|29|48|11|2018|3\\n2018-11-29 22:57:22.796000|22|29|48|11|2018|3\\n2018-11-29 23:02:05.796000|23|29|48|11|2018|3\\n2018-11-29 23:05:13.796000|23|29|48|11|2018|3\\n2018-11-29 23:18:35.796000|23|29|48|11|2018|3\\n'"
      ]
     },
     "execution_count": 36,
     "metadata": {},
     "output_type": "execute_result"
    }
   ],
   "source": [
    "time_string_iterator = StringIteratorIO((\n",
    "    '|'.join(map(clean_csv_value, (\n",
    "        datetime.datetime.fromtimestamp(log/1000.0),\n",
    "        datetime.datetime.fromtimestamp(log/1000.0).hour,\n",
    "        datetime.datetime.fromtimestamp(log/1000.0).day,\n",
    "        datetime.datetime.fromtimestamp(log/1000.0).isocalendar()[1],\n",
    "        datetime.datetime.fromtimestamp(log/1000.0).month,\n",
    "        datetime.datetime.fromtimestamp(log/1000.0).year,\n",
    "        datetime.datetime.fromtimestamp(log/1000.0).weekday(),\n",
    "    ))) + '\\n'\n",
    "    for log in json.loads(time_log)\n",
    "))"
   ]
  },
  {
   "cell_type": "code",
   "execution_count": 32,
   "metadata": {
    "editable": true
   },
   "outputs": [],
   "source": [
    "# \n",
    "time_data = (t.tolist(), t.dt.hour.tolist(), t.dt.day.tolist(), t.dt.week.tolist(), t.dt.month.tolist(),t.dt.year.tolist(),t.dt.weekday.tolist())\n",
    "column_labels = ('timestamp', 'hour', 'day', 'week_of_year', 'month', 'year', 'weekday')"
   ]
  },
  {
   "cell_type": "code",
   "execution_count": 33,
   "metadata": {
    "editable": true
   },
   "outputs": [
    {
     "data": {
      "text/html": [
       "<div>\n",
       "<style scoped>\n",
       "    .dataframe tbody tr th:only-of-type {\n",
       "        vertical-align: middle;\n",
       "    }\n",
       "\n",
       "    .dataframe tbody tr th {\n",
       "        vertical-align: top;\n",
       "    }\n",
       "\n",
       "    .dataframe thead th {\n",
       "        text-align: right;\n",
       "    }\n",
       "</style>\n",
       "<table border=\"1\" class=\"dataframe\">\n",
       "  <thead>\n",
       "    <tr style=\"text-align: right;\">\n",
       "      <th></th>\n",
       "      <th>timestamp</th>\n",
       "      <th>hour</th>\n",
       "      <th>day</th>\n",
       "      <th>week_of_year</th>\n",
       "      <th>month</th>\n",
       "      <th>year</th>\n",
       "      <th>weekday</th>\n",
       "    </tr>\n",
       "  </thead>\n",
       "  <tbody>\n",
       "    <tr>\n",
       "      <th>0</th>\n",
       "      <td>2018-11-29 00:00:57.796</td>\n",
       "      <td>0</td>\n",
       "      <td>29</td>\n",
       "      <td>48</td>\n",
       "      <td>11</td>\n",
       "      <td>2018</td>\n",
       "      <td>3</td>\n",
       "    </tr>\n",
       "    <tr>\n",
       "      <th>1</th>\n",
       "      <td>2018-11-29 00:01:30.796</td>\n",
       "      <td>0</td>\n",
       "      <td>29</td>\n",
       "      <td>48</td>\n",
       "      <td>11</td>\n",
       "      <td>2018</td>\n",
       "      <td>3</td>\n",
       "    </tr>\n",
       "    <tr>\n",
       "      <th>2</th>\n",
       "      <td>2018-11-29 00:04:01.796</td>\n",
       "      <td>0</td>\n",
       "      <td>29</td>\n",
       "      <td>48</td>\n",
       "      <td>11</td>\n",
       "      <td>2018</td>\n",
       "      <td>3</td>\n",
       "    </tr>\n",
       "    <tr>\n",
       "      <th>3</th>\n",
       "      <td>2018-11-29 00:04:55.796</td>\n",
       "      <td>0</td>\n",
       "      <td>29</td>\n",
       "      <td>48</td>\n",
       "      <td>11</td>\n",
       "      <td>2018</td>\n",
       "      <td>3</td>\n",
       "    </tr>\n",
       "    <tr>\n",
       "      <th>4</th>\n",
       "      <td>2018-11-29 00:07:13.796</td>\n",
       "      <td>0</td>\n",
       "      <td>29</td>\n",
       "      <td>48</td>\n",
       "      <td>11</td>\n",
       "      <td>2018</td>\n",
       "      <td>3</td>\n",
       "    </tr>\n",
       "  </tbody>\n",
       "</table>\n",
       "</div>"
      ],
      "text/plain": [
       "                timestamp  hour  day  week_of_year  month  year  weekday\n",
       "0 2018-11-29 00:00:57.796     0   29            48     11  2018        3\n",
       "1 2018-11-29 00:01:30.796     0   29            48     11  2018        3\n",
       "2 2018-11-29 00:04:01.796     0   29            48     11  2018        3\n",
       "3 2018-11-29 00:04:55.796     0   29            48     11  2018        3\n",
       "4 2018-11-29 00:07:13.796     0   29            48     11  2018        3"
      ]
     },
     "execution_count": 33,
     "metadata": {},
     "output_type": "execute_result"
    }
   ],
   "source": [
    "time_dict = {column_labels[i] : time_data[i] for i, _ in enumerate(column_labels)}\n",
    "time_df = pd.DataFrame.from_dict(time_dict)\n",
    "# time_df = time_df.astype({'timestamp':'str'})\n",
    "time_df.head()"
   ]
  },
  {
   "cell_type": "code",
   "execution_count": 34,
   "metadata": {
    "editable": true
   },
   "outputs": [
    {
     "data": {
      "text/plain": [
       "timestamp       datetime64[ns]\n",
       "hour                     int64\n",
       "day                      int64\n",
       "week_of_year             int64\n",
       "month                    int64\n",
       "year                     int64\n",
       "weekday                  int64\n",
       "dtype: object"
      ]
     },
     "execution_count": 34,
     "metadata": {},
     "output_type": "execute_result"
    }
   ],
   "source": [
    "time_df.dtypes"
   ]
  },
  {
   "cell_type": "markdown",
   "metadata": {
    "editable": true
   },
   "source": [
    "#### Insert Records into Time Table\n",
    "Implement the `time_table_insert` query in `sql_queries.py` and run the cell below to insert records for the timestamps in this log file into the `time` table. Remember to run `create_tables.py` before running the cell below to ensure you've created/resetted the `time` table in the sparkify database."
   ]
  },
  {
   "cell_type": "code",
   "execution_count": 35,
   "metadata": {
    "editable": true
   },
   "outputs": [],
   "source": [
    "for i, row in time_df.head().iterrows():    \n",
    "    cur.execute(time_table_insert, list(row))\n",
    "    conn.commit()"
   ]
  },
  {
   "cell_type": "markdown",
   "metadata": {
    "editable": true
   },
   "source": [
    "Run `test.ipynb` to see if you've successfully added records to this table."
   ]
  },
  {
   "cell_type": "markdown",
   "metadata": {
    "editable": true
   },
   "source": [
    "## #4: `users` Table\n",
    "#### Extract Data for Users Table\n",
    "- Select columns for user ID, first name, last name, gender and level and set to `user_df`"
   ]
  },
  {
   "cell_type": "code",
   "execution_count": 12,
   "metadata": {
    "editable": true
   },
   "outputs": [
    {
     "data": {
      "text/html": [
       "<div>\n",
       "<style scoped>\n",
       "    .dataframe tbody tr th:only-of-type {\n",
       "        vertical-align: middle;\n",
       "    }\n",
       "\n",
       "    .dataframe tbody tr th {\n",
       "        vertical-align: top;\n",
       "    }\n",
       "\n",
       "    .dataframe thead th {\n",
       "        text-align: right;\n",
       "    }\n",
       "</style>\n",
       "<table border=\"1\" class=\"dataframe\">\n",
       "  <thead>\n",
       "    <tr style=\"text-align: right;\">\n",
       "      <th></th>\n",
       "      <th>artist</th>\n",
       "      <th>auth</th>\n",
       "      <th>firstName</th>\n",
       "      <th>gender</th>\n",
       "      <th>itemInSession</th>\n",
       "      <th>lastName</th>\n",
       "      <th>length</th>\n",
       "      <th>level</th>\n",
       "      <th>location</th>\n",
       "      <th>method</th>\n",
       "      <th>page</th>\n",
       "      <th>registration</th>\n",
       "      <th>sessionId</th>\n",
       "      <th>song</th>\n",
       "      <th>status</th>\n",
       "      <th>ts</th>\n",
       "      <th>userAgent</th>\n",
       "      <th>userId</th>\n",
       "    </tr>\n",
       "  </thead>\n",
       "  <tbody>\n",
       "    <tr>\n",
       "      <th>0</th>\n",
       "      <td>Sydney Youngblood</td>\n",
       "      <td>Logged In</td>\n",
       "      <td>Jacob</td>\n",
       "      <td>M</td>\n",
       "      <td>53</td>\n",
       "      <td>Klein</td>\n",
       "      <td>238.07955</td>\n",
       "      <td>paid</td>\n",
       "      <td>Tampa-St. Petersburg-Clearwater, FL</td>\n",
       "      <td>PUT</td>\n",
       "      <td>NextSong</td>\n",
       "      <td>1.540558e+12</td>\n",
       "      <td>954</td>\n",
       "      <td>Ain't No Sunshine</td>\n",
       "      <td>200</td>\n",
       "      <td>1543449657796</td>\n",
       "      <td>\"Mozilla/5.0 (Macintosh; Intel Mac OS X 10_9_4...</td>\n",
       "      <td>73</td>\n",
       "    </tr>\n",
       "    <tr>\n",
       "      <th>1</th>\n",
       "      <td>Gang Starr</td>\n",
       "      <td>Logged In</td>\n",
       "      <td>Layla</td>\n",
       "      <td>F</td>\n",
       "      <td>88</td>\n",
       "      <td>Griffin</td>\n",
       "      <td>151.92771</td>\n",
       "      <td>paid</td>\n",
       "      <td>Lake Havasu City-Kingman, AZ</td>\n",
       "      <td>PUT</td>\n",
       "      <td>NextSong</td>\n",
       "      <td>1.541057e+12</td>\n",
       "      <td>984</td>\n",
       "      <td>My Advice 2 You (Explicit)</td>\n",
       "      <td>200</td>\n",
       "      <td>1543449690796</td>\n",
       "      <td>\"Mozilla/5.0 (Windows NT 6.1; WOW64) AppleWebK...</td>\n",
       "      <td>24</td>\n",
       "    </tr>\n",
       "    <tr>\n",
       "      <th>2</th>\n",
       "      <td>3OH!3</td>\n",
       "      <td>Logged In</td>\n",
       "      <td>Layla</td>\n",
       "      <td>F</td>\n",
       "      <td>89</td>\n",
       "      <td>Griffin</td>\n",
       "      <td>192.52200</td>\n",
       "      <td>paid</td>\n",
       "      <td>Lake Havasu City-Kingman, AZ</td>\n",
       "      <td>PUT</td>\n",
       "      <td>NextSong</td>\n",
       "      <td>1.541057e+12</td>\n",
       "      <td>984</td>\n",
       "      <td>My First Kiss (Feat. Ke$ha) [Album Version]</td>\n",
       "      <td>200</td>\n",
       "      <td>1543449841796</td>\n",
       "      <td>\"Mozilla/5.0 (Windows NT 6.1; WOW64) AppleWebK...</td>\n",
       "      <td>24</td>\n",
       "    </tr>\n",
       "    <tr>\n",
       "      <th>3</th>\n",
       "      <td>RÃÂ¶yksopp</td>\n",
       "      <td>Logged In</td>\n",
       "      <td>Jacob</td>\n",
       "      <td>M</td>\n",
       "      <td>54</td>\n",
       "      <td>Klein</td>\n",
       "      <td>369.81506</td>\n",
       "      <td>paid</td>\n",
       "      <td>Tampa-St. Petersburg-Clearwater, FL</td>\n",
       "      <td>PUT</td>\n",
       "      <td>NextSong</td>\n",
       "      <td>1.540558e+12</td>\n",
       "      <td>954</td>\n",
       "      <td>The Girl and The Robot</td>\n",
       "      <td>200</td>\n",
       "      <td>1543449895796</td>\n",
       "      <td>\"Mozilla/5.0 (Macintosh; Intel Mac OS X 10_9_4...</td>\n",
       "      <td>73</td>\n",
       "    </tr>\n",
       "    <tr>\n",
       "      <th>4</th>\n",
       "      <td>Kajagoogoo</td>\n",
       "      <td>Logged In</td>\n",
       "      <td>Layla</td>\n",
       "      <td>F</td>\n",
       "      <td>90</td>\n",
       "      <td>Griffin</td>\n",
       "      <td>223.55546</td>\n",
       "      <td>paid</td>\n",
       "      <td>Lake Havasu City-Kingman, AZ</td>\n",
       "      <td>PUT</td>\n",
       "      <td>NextSong</td>\n",
       "      <td>1.541057e+12</td>\n",
       "      <td>984</td>\n",
       "      <td>Too Shy</td>\n",
       "      <td>200</td>\n",
       "      <td>1543450033796</td>\n",
       "      <td>\"Mozilla/5.0 (Windows NT 6.1; WOW64) AppleWebK...</td>\n",
       "      <td>24</td>\n",
       "    </tr>\n",
       "  </tbody>\n",
       "</table>\n",
       "</div>"
      ],
      "text/plain": [
       "              artist       auth firstName gender  itemInSession lastName  \\\n",
       "0  Sydney Youngblood  Logged In     Jacob      M             53    Klein   \n",
       "1         Gang Starr  Logged In     Layla      F             88  Griffin   \n",
       "2              3OH!3  Logged In     Layla      F             89  Griffin   \n",
       "3        RÃÂ¶yksopp  Logged In     Jacob      M             54    Klein   \n",
       "4         Kajagoogoo  Logged In     Layla      F             90  Griffin   \n",
       "\n",
       "      length level                             location method      page  \\\n",
       "0  238.07955  paid  Tampa-St. Petersburg-Clearwater, FL    PUT  NextSong   \n",
       "1  151.92771  paid         Lake Havasu City-Kingman, AZ    PUT  NextSong   \n",
       "2  192.52200  paid         Lake Havasu City-Kingman, AZ    PUT  NextSong   \n",
       "3  369.81506  paid  Tampa-St. Petersburg-Clearwater, FL    PUT  NextSong   \n",
       "4  223.55546  paid         Lake Havasu City-Kingman, AZ    PUT  NextSong   \n",
       "\n",
       "   registration  sessionId                                         song  \\\n",
       "0  1.540558e+12        954                            Ain't No Sunshine   \n",
       "1  1.541057e+12        984                   My Advice 2 You (Explicit)   \n",
       "2  1.541057e+12        984  My First Kiss (Feat. Ke$ha) [Album Version]   \n",
       "3  1.540558e+12        954                       The Girl and The Robot   \n",
       "4  1.541057e+12        984                                      Too Shy   \n",
       "\n",
       "   status             ts                                          userAgent  \\\n",
       "0     200  1543449657796  \"Mozilla/5.0 (Macintosh; Intel Mac OS X 10_9_4...   \n",
       "1     200  1543449690796  \"Mozilla/5.0 (Windows NT 6.1; WOW64) AppleWebK...   \n",
       "2     200  1543449841796  \"Mozilla/5.0 (Windows NT 6.1; WOW64) AppleWebK...   \n",
       "3     200  1543449895796  \"Mozilla/5.0 (Macintosh; Intel Mac OS X 10_9_4...   \n",
       "4     200  1543450033796  \"Mozilla/5.0 (Windows NT 6.1; WOW64) AppleWebK...   \n",
       "\n",
       "  userId  \n",
       "0     73  \n",
       "1     24  \n",
       "2     24  \n",
       "3     73  \n",
       "4     24  "
      ]
     },
     "execution_count": 12,
     "metadata": {},
     "output_type": "execute_result"
    }
   ],
   "source": [
    "df.head()"
   ]
  },
  {
   "cell_type": "code",
   "execution_count": 20,
   "metadata": {
    "editable": true
   },
   "outputs": [],
   "source": [
    "user_df = df[['userId', 'firstName', 'lastName', 'gender', 'level']]"
   ]
  },
  {
   "cell_type": "code",
   "execution_count": 21,
   "metadata": {
    "editable": true
   },
   "outputs": [
    {
     "data": {
      "text/html": [
       "<div>\n",
       "<style scoped>\n",
       "    .dataframe tbody tr th:only-of-type {\n",
       "        vertical-align: middle;\n",
       "    }\n",
       "\n",
       "    .dataframe tbody tr th {\n",
       "        vertical-align: top;\n",
       "    }\n",
       "\n",
       "    .dataframe thead th {\n",
       "        text-align: right;\n",
       "    }\n",
       "</style>\n",
       "<table border=\"1\" class=\"dataframe\">\n",
       "  <thead>\n",
       "    <tr style=\"text-align: right;\">\n",
       "      <th></th>\n",
       "      <th>userId</th>\n",
       "      <th>firstName</th>\n",
       "      <th>lastName</th>\n",
       "      <th>gender</th>\n",
       "      <th>level</th>\n",
       "    </tr>\n",
       "  </thead>\n",
       "  <tbody>\n",
       "  </tbody>\n",
       "</table>\n",
       "</div>"
      ],
      "text/plain": [
       "Empty DataFrame\n",
       "Columns: [userId, firstName, lastName, gender, level]\n",
       "Index: []"
      ]
     },
     "execution_count": 21,
     "metadata": {},
     "output_type": "execute_result"
    }
   ],
   "source": [
    "user_df[user_df['userId']==\"\"]\n",
    "# there is empty userid\n",
    "# I assummed that this is an error\n",
    "# So I decided not to put these into the users table"
   ]
  },
  {
   "cell_type": "code",
   "execution_count": 14,
   "metadata": {
    "editable": true
   },
   "outputs": [
    {
     "name": "stderr",
     "output_type": "stream",
     "text": [
      "/opt/conda/lib/python3.6/site-packages/pandas/core/frame.py:3798: SettingWithCopyWarning: \n",
      "A value is trying to be set on a copy of a slice from a DataFrame\n",
      "\n",
      "See the caveats in the documentation: http://pandas.pydata.org/pandas-docs/stable/indexing.html#indexing-view-versus-copy\n",
      "  method=method)\n"
     ]
    },
    {
     "data": {
      "text/html": [
       "<div>\n",
       "<style scoped>\n",
       "    .dataframe tbody tr th:only-of-type {\n",
       "        vertical-align: middle;\n",
       "    }\n",
       "\n",
       "    .dataframe tbody tr th {\n",
       "        vertical-align: top;\n",
       "    }\n",
       "\n",
       "    .dataframe thead th {\n",
       "        text-align: right;\n",
       "    }\n",
       "</style>\n",
       "<table border=\"1\" class=\"dataframe\">\n",
       "  <thead>\n",
       "    <tr style=\"text-align: right;\">\n",
       "      <th></th>\n",
       "      <th>userId</th>\n",
       "      <th>firstName</th>\n",
       "      <th>lastName</th>\n",
       "      <th>gender</th>\n",
       "      <th>level</th>\n",
       "    </tr>\n",
       "  </thead>\n",
       "  <tbody>\n",
       "  </tbody>\n",
       "</table>\n",
       "</div>"
      ],
      "text/plain": [
       "Empty DataFrame\n",
       "Columns: [userId, firstName, lastName, gender, level]\n",
       "Index: []"
      ]
     },
     "execution_count": 14,
     "metadata": {},
     "output_type": "execute_result"
    }
   ],
   "source": [
    "# user_df[user_df['userId']==''] = np.nan\n",
    "user_df.replace('', np.nan, inplace=True)\n",
    "user_df.dropna(subset=['userId'])\n",
    "user_df[user_df['userId']==\"\"]"
   ]
  },
  {
   "cell_type": "code",
   "execution_count": 22,
   "metadata": {
    "editable": true
   },
   "outputs": [
    {
     "data": {
      "text/html": [
       "<div>\n",
       "<style scoped>\n",
       "    .dataframe tbody tr th:only-of-type {\n",
       "        vertical-align: middle;\n",
       "    }\n",
       "\n",
       "    .dataframe tbody tr th {\n",
       "        vertical-align: top;\n",
       "    }\n",
       "\n",
       "    .dataframe thead th {\n",
       "        text-align: right;\n",
       "    }\n",
       "</style>\n",
       "<table border=\"1\" class=\"dataframe\">\n",
       "  <thead>\n",
       "    <tr style=\"text-align: right;\">\n",
       "      <th></th>\n",
       "      <th>userId</th>\n",
       "      <th>firstName</th>\n",
       "      <th>lastName</th>\n",
       "      <th>gender</th>\n",
       "      <th>level</th>\n",
       "    </tr>\n",
       "  </thead>\n",
       "  <tbody>\n",
       "    <tr>\n",
       "      <th>0</th>\n",
       "      <td>73</td>\n",
       "      <td>Jacob</td>\n",
       "      <td>Klein</td>\n",
       "      <td>M</td>\n",
       "      <td>paid</td>\n",
       "    </tr>\n",
       "    <tr>\n",
       "      <th>1</th>\n",
       "      <td>24</td>\n",
       "      <td>Layla</td>\n",
       "      <td>Griffin</td>\n",
       "      <td>F</td>\n",
       "      <td>paid</td>\n",
       "    </tr>\n",
       "    <tr>\n",
       "      <th>2</th>\n",
       "      <td>24</td>\n",
       "      <td>Layla</td>\n",
       "      <td>Griffin</td>\n",
       "      <td>F</td>\n",
       "      <td>paid</td>\n",
       "    </tr>\n",
       "    <tr>\n",
       "      <th>3</th>\n",
       "      <td>73</td>\n",
       "      <td>Jacob</td>\n",
       "      <td>Klein</td>\n",
       "      <td>M</td>\n",
       "      <td>paid</td>\n",
       "    </tr>\n",
       "    <tr>\n",
       "      <th>4</th>\n",
       "      <td>24</td>\n",
       "      <td>Layla</td>\n",
       "      <td>Griffin</td>\n",
       "      <td>F</td>\n",
       "      <td>paid</td>\n",
       "    </tr>\n",
       "  </tbody>\n",
       "</table>\n",
       "</div>"
      ],
      "text/plain": [
       "  userId firstName lastName gender level\n",
       "0     73     Jacob    Klein      M  paid\n",
       "1     24     Layla  Griffin      F  paid\n",
       "2     24     Layla  Griffin      F  paid\n",
       "3     73     Jacob    Klein      M  paid\n",
       "4     24     Layla  Griffin      F  paid"
      ]
     },
     "execution_count": 22,
     "metadata": {},
     "output_type": "execute_result"
    }
   ],
   "source": [
    "user_df.head()"
   ]
  },
  {
   "cell_type": "code",
   "execution_count": 23,
   "metadata": {
    "editable": true
   },
   "outputs": [
    {
     "data": {
      "text/html": [
       "<div>\n",
       "<style scoped>\n",
       "    .dataframe tbody tr th:only-of-type {\n",
       "        vertical-align: middle;\n",
       "    }\n",
       "\n",
       "    .dataframe tbody tr th {\n",
       "        vertical-align: top;\n",
       "    }\n",
       "\n",
       "    .dataframe thead th {\n",
       "        text-align: right;\n",
       "    }\n",
       "</style>\n",
       "<table border=\"1\" class=\"dataframe\">\n",
       "  <thead>\n",
       "    <tr style=\"text-align: right;\">\n",
       "      <th></th>\n",
       "      <th>userId</th>\n",
       "      <th>firstName</th>\n",
       "      <th>lastName</th>\n",
       "      <th>gender</th>\n",
       "      <th>level</th>\n",
       "    </tr>\n",
       "  </thead>\n",
       "  <tbody>\n",
       "    <tr>\n",
       "      <th>7</th>\n",
       "      <td>73</td>\n",
       "      <td>Jacob</td>\n",
       "      <td>Klein</td>\n",
       "      <td>M</td>\n",
       "      <td>paid</td>\n",
       "    </tr>\n",
       "    <tr>\n",
       "      <th>21</th>\n",
       "      <td>50</td>\n",
       "      <td>Ava</td>\n",
       "      <td>Robinson</td>\n",
       "      <td>F</td>\n",
       "      <td>free</td>\n",
       "    </tr>\n",
       "    <tr>\n",
       "      <th>34</th>\n",
       "      <td>24</td>\n",
       "      <td>Layla</td>\n",
       "      <td>Griffin</td>\n",
       "      <td>F</td>\n",
       "      <td>paid</td>\n",
       "    </tr>\n",
       "    <tr>\n",
       "      <th>39</th>\n",
       "      <td>54</td>\n",
       "      <td>Kaleb</td>\n",
       "      <td>Cook</td>\n",
       "      <td>M</td>\n",
       "      <td>free</td>\n",
       "    </tr>\n",
       "    <tr>\n",
       "      <th>47</th>\n",
       "      <td>14</td>\n",
       "      <td>Theodore</td>\n",
       "      <td>Harris</td>\n",
       "      <td>M</td>\n",
       "      <td>free</td>\n",
       "    </tr>\n",
       "  </tbody>\n",
       "</table>\n",
       "</div>"
      ],
      "text/plain": [
       "   userId firstName  lastName gender level\n",
       "7      73     Jacob     Klein      M  paid\n",
       "21     50       Ava  Robinson      F  free\n",
       "34     24     Layla   Griffin      F  paid\n",
       "39     54     Kaleb      Cook      M  free\n",
       "47     14  Theodore    Harris      M  free"
      ]
     },
     "execution_count": 23,
     "metadata": {},
     "output_type": "execute_result"
    }
   ],
   "source": [
    "user_df = user_df.drop_duplicates(subset = 'userId' , keep=\"last\")\n",
    "len(user_df)\n",
    "user_df.head()"
   ]
  },
  {
   "cell_type": "code",
   "execution_count": 16,
   "metadata": {
    "editable": true
   },
   "outputs": [],
   "source": [
    "from typing import Iterator, Dict, Any\n",
    "\n",
    "def clean_csv_value(value: Optional[Any]) -> str:\n",
    "    if value is None:\n",
    "        return r'\\N'\n",
    "    return str(value).replace('\\n', '\\\\n')"
   ]
  },
  {
   "cell_type": "code",
   "execution_count": 37,
   "metadata": {
    "editable": true
   },
   "outputs": [
    {
     "data": {
      "text/plain": [
       "[['73', 'Jacob', 'Klein', 'M', 'paid'],\n",
       " ['24', 'Layla', 'Griffin', 'F', 'paid'],\n",
       " ['24', 'Layla', 'Griffin', 'F', 'paid'],\n",
       " ['73', 'Jacob', 'Klein', 'M', 'paid'],\n",
       " ['24', 'Layla', 'Griffin', 'F', 'paid'],\n",
       " ['24', 'Layla', 'Griffin', 'F', 'paid'],\n",
       " ['73', 'Jacob', 'Klein', 'M', 'paid'],\n",
       " ['73', 'Jacob', 'Klein', 'M', 'paid'],\n",
       " ['24', 'Layla', 'Griffin', 'F', 'paid'],\n",
       " ['24', 'Layla', 'Griffin', 'F', 'paid'],\n",
       " ['24', 'Layla', 'Griffin', 'F', 'paid'],\n",
       " ['24', 'Layla', 'Griffin', 'F', 'paid'],\n",
       " ['24', 'Layla', 'Griffin', 'F', 'paid'],\n",
       " ['24', 'Layla', 'Griffin', 'F', 'paid'],\n",
       " ['24', 'Layla', 'Griffin', 'F', 'paid'],\n",
       " ['24', 'Layla', 'Griffin', 'F', 'paid'],\n",
       " ['24', 'Layla', 'Griffin', 'F', 'paid'],\n",
       " ['24', 'Layla', 'Griffin', 'F', 'paid'],\n",
       " ['24', 'Layla', 'Griffin', 'F', 'paid'],\n",
       " ['24', 'Layla', 'Griffin', 'F', 'paid'],\n",
       " ['24', 'Layla', 'Griffin', 'F', 'paid'],\n",
       " ['50', 'Ava', 'Robinson', 'F', 'free'],\n",
       " ['24', 'Layla', 'Griffin', 'F', 'paid'],\n",
       " ['24', 'Layla', 'Griffin', 'F', 'paid'],\n",
       " ['24', 'Layla', 'Griffin', 'F', 'paid'],\n",
       " ['24', 'Layla', 'Griffin', 'F', 'paid'],\n",
       " ['24', 'Layla', 'Griffin', 'F', 'paid'],\n",
       " ['24', 'Layla', 'Griffin', 'F', 'paid'],\n",
       " ['24', 'Layla', 'Griffin', 'F', 'paid'],\n",
       " ['24', 'Layla', 'Griffin', 'F', 'paid'],\n",
       " ['24', 'Layla', 'Griffin', 'F', 'paid'],\n",
       " ['24', 'Layla', 'Griffin', 'F', 'paid'],\n",
       " ['24', 'Layla', 'Griffin', 'F', 'paid'],\n",
       " ['24', 'Layla', 'Griffin', 'F', 'paid'],\n",
       " ['24', 'Layla', 'Griffin', 'F', 'paid'],\n",
       " ['54', 'Kaleb', 'Cook', 'M', 'free'],\n",
       " ['54', 'Kaleb', 'Cook', 'M', 'free'],\n",
       " ['54', 'Kaleb', 'Cook', 'M', 'free'],\n",
       " ['54', 'Kaleb', 'Cook', 'M', 'free'],\n",
       " ['54', 'Kaleb', 'Cook', 'M', 'free'],\n",
       " ['32', 'Lily', 'Burns', 'F', 'free'],\n",
       " ['32', 'Lily', 'Burns', 'F', 'free'],\n",
       " ['4', 'Alivia', 'Terrell', 'F', 'free'],\n",
       " ['52', 'Theodore', 'Smith', 'M', 'free'],\n",
       " ['52', 'Theodore', 'Smith', 'M', 'free'],\n",
       " ['52', 'Theodore', 'Smith', 'M', 'free'],\n",
       " ['14', 'Theodore', 'Harris', 'M', 'free'],\n",
       " ['14', 'Theodore', 'Harris', 'M', 'free'],\n",
       " ['98', 'Jordyn', 'Powell', 'F', 'free'],\n",
       " ['98', 'Jordyn', 'Powell', 'F', 'free'],\n",
       " ['32', 'Lily', 'Burns', 'F', 'free'],\n",
       " ['101', 'Jayden', 'Fox', 'M', 'free'],\n",
       " ['101', 'Jayden', 'Fox', 'M', 'free'],\n",
       " ['78', 'Chloe', 'Roth', 'F', 'free'],\n",
       " ['101', 'Jayden', 'Fox', 'M', 'free'],\n",
       " ['101', 'Jayden', 'Fox', 'M', 'free'],\n",
       " ['10', 'Sylvie', 'Cruz', 'F', 'free'],\n",
       " ['52', 'Theodore', 'Smith', 'M', 'free'],\n",
       " ['53', 'Celeste', 'Williams', 'F', 'free'],\n",
       " ['61', 'Samuel', 'Gonzalez', 'M', 'free'],\n",
       " ['49', 'Chloe', 'Cuevas', 'F', 'paid'],\n",
       " [None, None, None, None, 'paid'],\n",
       " [None, None, None, None, 'paid'],\n",
       " ['49', 'Chloe', 'Cuevas', 'F', 'paid'],\n",
       " ['49', 'Chloe', 'Cuevas', 'F', 'paid'],\n",
       " ['49', 'Chloe', 'Cuevas', 'F', 'paid'],\n",
       " ['49', 'Chloe', 'Cuevas', 'F', 'paid'],\n",
       " ['49', 'Chloe', 'Cuevas', 'F', 'paid'],\n",
       " ['49', 'Chloe', 'Cuevas', 'F', 'paid'],\n",
       " ['49', 'Chloe', 'Cuevas', 'F', 'paid'],\n",
       " ['49', 'Chloe', 'Cuevas', 'F', 'paid'],\n",
       " ['49', 'Chloe', 'Cuevas', 'F', 'paid'],\n",
       " ['49', 'Chloe', 'Cuevas', 'F', 'paid'],\n",
       " ['49', 'Chloe', 'Cuevas', 'F', 'paid'],\n",
       " ['49', 'Chloe', 'Cuevas', 'F', 'paid'],\n",
       " ['49', 'Chloe', 'Cuevas', 'F', 'paid'],\n",
       " ['49', 'Chloe', 'Cuevas', 'F', 'paid'],\n",
       " ['49', 'Chloe', 'Cuevas', 'F', 'paid'],\n",
       " [None, None, None, None, 'paid'],\n",
       " ['49', 'Chloe', 'Cuevas', 'F', 'paid'],\n",
       " ['16', 'Rylan', 'George', 'M', 'paid'],\n",
       " ['16', 'Rylan', 'George', 'M', 'paid'],\n",
       " ['49', 'Chloe', 'Cuevas', 'F', 'paid'],\n",
       " ['16', 'Rylan', 'George', 'M', 'paid'],\n",
       " ['26', 'Ryan', 'Smith', 'M', 'free'],\n",
       " ['32', 'Lily', 'Burns', 'F', 'free'],\n",
       " ['49', 'Chloe', 'Cuevas', 'F', 'paid'],\n",
       " ['26', 'Ryan', 'Smith', 'M', 'free'],\n",
       " ['16', 'Rylan', 'George', 'M', 'paid'],\n",
       " ['32', 'Lily', 'Burns', 'F', 'free'],\n",
       " ['49', 'Chloe', 'Cuevas', 'F', 'paid'],\n",
       " ['16', 'Rylan', 'George', 'M', 'paid'],\n",
       " ['26', 'Ryan', 'Smith', 'M', 'free'],\n",
       " ['49', 'Chloe', 'Cuevas', 'F', 'paid'],\n",
       " ['16', 'Rylan', 'George', 'M', 'paid'],\n",
       " ['79', 'James', 'Martin', 'M', 'free'],\n",
       " ['26', 'Ryan', 'Smith', 'M', 'free'],\n",
       " ['26', 'Ryan', 'Smith', 'M', 'free'],\n",
       " ['49', 'Chloe', 'Cuevas', 'F', 'paid'],\n",
       " ['16', 'Rylan', 'George', 'M', 'paid'],\n",
       " [None, None, None, None, 'free'],\n",
       " [None, None, None, None, 'free'],\n",
       " ['49', 'Chloe', 'Cuevas', 'F', 'paid'],\n",
       " ['26', 'Ryan', 'Smith', 'M', 'free'],\n",
       " ['26', 'Ryan', 'Smith', 'M', 'free'],\n",
       " ['16', 'Rylan', 'George', 'M', 'paid'],\n",
       " ['49', 'Chloe', 'Cuevas', 'F', 'paid'],\n",
       " ['16', 'Rylan', 'George', 'M', 'paid'],\n",
       " ['26', 'Ryan', 'Smith', 'M', 'free'],\n",
       " ['16', 'Rylan', 'George', 'M', 'paid'],\n",
       " ['49', 'Chloe', 'Cuevas', 'F', 'paid'],\n",
       " ['16', 'Rylan', 'George', 'M', 'paid'],\n",
       " ['49', 'Chloe', 'Cuevas', 'F', 'paid'],\n",
       " ['49', 'Chloe', 'Cuevas', 'F', 'paid'],\n",
       " ['16', 'Rylan', 'George', 'M', 'paid'],\n",
       " ['49', 'Chloe', 'Cuevas', 'F', 'paid'],\n",
       " ['16', 'Rylan', 'George', 'M', 'paid'],\n",
       " ['49', 'Chloe', 'Cuevas', 'F', 'paid'],\n",
       " ['16', 'Rylan', 'George', 'M', 'paid'],\n",
       " ['49', 'Chloe', 'Cuevas', 'F', 'paid'],\n",
       " ['16', 'Rylan', 'George', 'M', 'paid'],\n",
       " ['49', 'Chloe', 'Cuevas', 'F', 'paid'],\n",
       " ['16', 'Rylan', 'George', 'M', 'paid'],\n",
       " ['49', 'Chloe', 'Cuevas', 'F', 'paid'],\n",
       " ['49', 'Chloe', 'Cuevas', 'F', 'paid'],\n",
       " ['16', 'Rylan', 'George', 'M', 'paid'],\n",
       " ['49', 'Chloe', 'Cuevas', 'F', 'paid'],\n",
       " ['16', 'Rylan', 'George', 'M', 'paid'],\n",
       " ['49', 'Chloe', 'Cuevas', 'F', 'paid'],\n",
       " ['16', 'Rylan', 'George', 'M', 'paid'],\n",
       " ['49', 'Chloe', 'Cuevas', 'F', 'paid'],\n",
       " ['16', 'Rylan', 'George', 'M', 'paid'],\n",
       " ['49', 'Chloe', 'Cuevas', 'F', 'paid'],\n",
       " ['16', 'Rylan', 'George', 'M', 'paid'],\n",
       " ['49', 'Chloe', 'Cuevas', 'F', 'paid'],\n",
       " ['16', 'Rylan', 'George', 'M', 'paid'],\n",
       " ['49', 'Chloe', 'Cuevas', 'F', 'paid'],\n",
       " ['16', 'Rylan', 'George', 'M', 'paid'],\n",
       " ['49', 'Chloe', 'Cuevas', 'F', 'paid'],\n",
       " ['16', 'Rylan', 'George', 'M', 'paid'],\n",
       " ['49', 'Chloe', 'Cuevas', 'F', 'paid'],\n",
       " ['16', 'Rylan', 'George', 'M', 'paid'],\n",
       " ['49', 'Chloe', 'Cuevas', 'F', 'paid'],\n",
       " ['16', 'Rylan', 'George', 'M', 'paid'],\n",
       " ['49', 'Chloe', 'Cuevas', 'F', 'paid'],\n",
       " ['16', 'Rylan', 'George', 'M', 'paid'],\n",
       " ['49', 'Chloe', 'Cuevas', 'F', 'paid'],\n",
       " ['16', 'Rylan', 'George', 'M', 'paid'],\n",
       " ['16', 'Rylan', 'George', 'M', 'paid'],\n",
       " ['49', 'Chloe', 'Cuevas', 'F', 'paid'],\n",
       " ['82', 'Avery', 'Martinez', 'F', 'paid'],\n",
       " ['16', 'Rylan', 'George', 'M', 'paid'],\n",
       " ['82', 'Avery', 'Martinez', 'F', 'paid'],\n",
       " ['49', 'Chloe', 'Cuevas', 'F', 'paid'],\n",
       " ['16', 'Rylan', 'George', 'M', 'paid'],\n",
       " ['16', 'Rylan', 'George', 'M', 'paid'],\n",
       " ['82', 'Avery', 'Martinez', 'F', 'paid'],\n",
       " ['49', 'Chloe', 'Cuevas', 'F', 'paid'],\n",
       " ['44', 'Aleena', 'Kirby', 'F', 'paid'],\n",
       " ['49', 'Chloe', 'Cuevas', 'F', 'paid'],\n",
       " ['82', 'Avery', 'Martinez', 'F', 'paid'],\n",
       " ['16', 'Rylan', 'George', 'M', 'paid'],\n",
       " ['16', 'Rylan', 'George', 'M', 'paid'],\n",
       " ['49', 'Chloe', 'Cuevas', 'F', 'paid'],\n",
       " ['82', 'Avery', 'Martinez', 'F', 'paid'],\n",
       " ['44', 'Aleena', 'Kirby', 'F', 'paid'],\n",
       " ['44', 'Aleena', 'Kirby', 'F', 'paid'],\n",
       " ['44', 'Aleena', 'Kirby', 'F', 'paid'],\n",
       " ['16', 'Rylan', 'George', 'M', 'paid'],\n",
       " ['44', 'Aleena', 'Kirby', 'F', 'paid'],\n",
       " ['49', 'Chloe', 'Cuevas', 'F', 'paid'],\n",
       " ['4', 'Alivia', 'Terrell', 'F', 'free'],\n",
       " ['82', 'Avery', 'Martinez', 'F', 'paid'],\n",
       " ['49', 'Chloe', 'Cuevas', 'F', 'paid'],\n",
       " ['16', 'Rylan', 'George', 'M', 'paid'],\n",
       " ['82', 'Avery', 'Martinez', 'F', 'paid'],\n",
       " ['49', 'Chloe', 'Cuevas', 'F', 'paid'],\n",
       " ['16', 'Rylan', 'George', 'M', 'paid'],\n",
       " ['82', 'Avery', 'Martinez', 'F', 'paid'],\n",
       " ['49', 'Chloe', 'Cuevas', 'F', 'paid'],\n",
       " ['82', 'Avery', 'Martinez', 'F', 'paid'],\n",
       " ['16', 'Rylan', 'George', 'M', 'paid'],\n",
       " ['49', 'Chloe', 'Cuevas', 'F', 'paid'],\n",
       " ['49', 'Chloe', 'Cuevas', 'F', 'paid'],\n",
       " ['16', 'Rylan', 'George', 'M', 'paid'],\n",
       " ['82', 'Avery', 'Martinez', 'F', 'paid'],\n",
       " ['16', 'Rylan', 'George', 'M', 'paid'],\n",
       " ['49', 'Chloe', 'Cuevas', 'F', 'paid'],\n",
       " ['82', 'Avery', 'Martinez', 'F', 'paid'],\n",
       " ['16', 'Rylan', 'George', 'M', 'paid'],\n",
       " ['82', 'Avery', 'Martinez', 'F', 'paid'],\n",
       " ['82', 'Avery', 'Martinez', 'F', 'paid'],\n",
       " ['16', 'Rylan', 'George', 'M', 'paid'],\n",
       " ['82', 'Avery', 'Martinez', 'F', 'paid'],\n",
       " ['49', 'Chloe', 'Cuevas', 'F', 'paid'],\n",
       " ['82', 'Avery', 'Martinez', 'F', 'paid'],\n",
       " ['16', 'Rylan', 'George', 'M', 'paid'],\n",
       " ['82', 'Avery', 'Martinez', 'F', 'paid'],\n",
       " ['82', 'Avery', 'Martinez', 'F', 'paid'],\n",
       " ['75', 'Joseph', 'Gutierrez', 'M', 'free'],\n",
       " ['49', 'Chloe', 'Cuevas', 'F', 'paid'],\n",
       " ['75', 'Joseph', 'Gutierrez', 'M', 'free'],\n",
       " ['75', 'Joseph', 'Gutierrez', 'M', 'free'],\n",
       " ['16', 'Rylan', 'George', 'M', 'paid'],\n",
       " ['39', 'Walter', 'Frye', 'M', 'free'],\n",
       " ['82', 'Avery', 'Martinez', 'F', 'paid'],\n",
       " ['75', 'Joseph', 'Gutierrez', 'M', 'free'],\n",
       " ['49', 'Chloe', 'Cuevas', 'F', 'paid'],\n",
       " ['16', 'Rylan', 'George', 'M', 'paid'],\n",
       " ['82', 'Avery', 'Martinez', 'F', 'paid'],\n",
       " ['49', 'Chloe', 'Cuevas', 'F', 'paid'],\n",
       " ['82', 'Avery', 'Martinez', 'F', 'paid'],\n",
       " ['16', 'Rylan', 'George', 'M', 'paid'],\n",
       " ['16', 'Rylan', 'George', 'M', 'paid'],\n",
       " ['49', 'Chloe', 'Cuevas', 'F', 'paid'],\n",
       " ['82', 'Avery', 'Martinez', 'F', 'paid'],\n",
       " ['49', 'Chloe', 'Cuevas', 'F', 'paid'],\n",
       " ['16', 'Rylan', 'George', 'M', 'paid'],\n",
       " ['82', 'Avery', 'Martinez', 'F', 'paid'],\n",
       " ['49', 'Chloe', 'Cuevas', 'F', 'paid'],\n",
       " ['16', 'Rylan', 'George', 'M', 'paid'],\n",
       " ['82', 'Avery', 'Martinez', 'F', 'paid'],\n",
       " ['49', 'Chloe', 'Cuevas', 'F', 'paid'],\n",
       " ['16', 'Rylan', 'George', 'M', 'paid'],\n",
       " ['82', 'Avery', 'Martinez', 'F', 'paid'],\n",
       " ['49', 'Chloe', 'Cuevas', 'F', 'paid'],\n",
       " ['44', 'Aleena', 'Kirby', 'F', 'paid'],\n",
       " ['16', 'Rylan', 'George', 'M', 'paid'],\n",
       " ['82', 'Avery', 'Martinez', 'F', 'paid'],\n",
       " ['49', 'Chloe', 'Cuevas', 'F', 'paid'],\n",
       " ['82', 'Avery', 'Martinez', 'F', 'paid'],\n",
       " ['82', 'Avery', 'Martinez', 'F', 'paid'],\n",
       " ['49', 'Chloe', 'Cuevas', 'F', 'paid'],\n",
       " ['16', 'Rylan', 'George', 'M', 'paid'],\n",
       " [None, None, None, None, 'paid'],\n",
       " ['49', 'Chloe', 'Cuevas', 'F', 'paid'],\n",
       " [None, None, None, None, 'paid'],\n",
       " ['82', 'Avery', 'Martinez', 'F', 'paid'],\n",
       " ['49', 'Chloe', 'Cuevas', 'F', 'paid'],\n",
       " ['82', 'Avery', 'Martinez', 'F', 'paid'],\n",
       " ['16', 'Rylan', 'George', 'M', 'paid'],\n",
       " ['16', 'Rylan', 'George', 'M', 'paid'],\n",
       " ['82', 'Avery', 'Martinez', 'F', 'paid'],\n",
       " ['49', 'Chloe', 'Cuevas', 'F', 'paid'],\n",
       " ['82', 'Avery', 'Martinez', 'F', 'paid'],\n",
       " ['16', 'Rylan', 'George', 'M', 'paid'],\n",
       " ['16', 'Rylan', 'George', 'M', 'paid'],\n",
       " ['82', 'Avery', 'Martinez', 'F', 'paid'],\n",
       " ['16', 'Rylan', 'George', 'M', 'paid'],\n",
       " ['49', 'Chloe', 'Cuevas', 'F', 'paid'],\n",
       " ['82', 'Avery', 'Martinez', 'F', 'paid'],\n",
       " ['16', 'Rylan', 'George', 'M', 'paid'],\n",
       " ['82', 'Avery', 'Martinez', 'F', 'paid'],\n",
       " ['16', 'Rylan', 'George', 'M', 'paid'],\n",
       " ['82', 'Avery', 'Martinez', 'F', 'paid'],\n",
       " ['16', 'Rylan', 'George', 'M', 'paid'],\n",
       " ['82', 'Avery', 'Martinez', 'F', 'paid'],\n",
       " ['16', 'Rylan', 'George', 'M', 'paid'],\n",
       " ['82', 'Avery', 'Martinez', 'F', 'paid'],\n",
       " ['16', 'Rylan', 'George', 'M', 'paid'],\n",
       " ['82', 'Avery', 'Martinez', 'F', 'paid'],\n",
       " ['16', 'Rylan', 'George', 'M', 'paid'],\n",
       " ['82', 'Avery', 'Martinez', 'F', 'paid'],\n",
       " ['82', 'Avery', 'Martinez', 'F', 'paid'],\n",
       " ['16', 'Rylan', 'George', 'M', 'paid'],\n",
       " ['16', 'Rylan', 'George', 'M', 'paid'],\n",
       " ['82', 'Avery', 'Martinez', 'F', 'paid'],\n",
       " ['82', 'Avery', 'Martinez', 'F', 'paid'],\n",
       " ['16', 'Rylan', 'George', 'M', 'paid'],\n",
       " ['82', 'Avery', 'Martinez', 'F', 'paid'],\n",
       " ['16', 'Rylan', 'George', 'M', 'paid'],\n",
       " ['82', 'Avery', 'Martinez', 'F', 'paid'],\n",
       " ['82', 'Avery', 'Martinez', 'F', 'paid'],\n",
       " [None, None, None, None, 'paid'],\n",
       " [None, None, None, None, 'paid'],\n",
       " ['49', 'Chloe', 'Cuevas', 'F', 'paid'],\n",
       " ['82', 'Avery', 'Martinez', 'F', 'paid'],\n",
       " ['16', 'Rylan', 'George', 'M', 'paid'],\n",
       " ['82', 'Avery', 'Martinez', 'F', 'paid'],\n",
       " ['16', 'Rylan', 'George', 'M', 'paid'],\n",
       " [None, None, None, None, 'paid'],\n",
       " ['16', 'Rylan', 'George', 'M', 'paid'],\n",
       " ['16', 'Rylan', 'George', 'M', 'paid'],\n",
       " ['16', 'Rylan', 'George', 'M', 'paid'],\n",
       " [None, None, None, None, 'paid'],\n",
       " [None, None, None, None, 'paid'],\n",
       " ['80', 'Tegan', 'Levine', 'F', 'paid'],\n",
       " ['49', 'Chloe', 'Cuevas', 'F', 'paid'],\n",
       " ['49', 'Chloe', 'Cuevas', 'F', 'paid'],\n",
       " ['49', 'Chloe', 'Cuevas', 'F', 'paid'],\n",
       " ['49', 'Chloe', 'Cuevas', 'F', 'paid'],\n",
       " ['49', 'Chloe', 'Cuevas', 'F', 'paid'],\n",
       " ['49', 'Chloe', 'Cuevas', 'F', 'paid'],\n",
       " ['49', 'Chloe', 'Cuevas', 'F', 'paid'],\n",
       " ['49', 'Chloe', 'Cuevas', 'F', 'paid'],\n",
       " ['49', 'Chloe', 'Cuevas', 'F', 'paid'],\n",
       " ['80', 'Tegan', 'Levine', 'F', 'paid'],\n",
       " ['49', 'Chloe', 'Cuevas', 'F', 'paid'],\n",
       " ['80', 'Tegan', 'Levine', 'F', 'paid'],\n",
       " ['49', 'Chloe', 'Cuevas', 'F', 'paid'],\n",
       " ['49', 'Chloe', 'Cuevas', 'F', 'paid'],\n",
       " ['80', 'Tegan', 'Levine', 'F', 'paid'],\n",
       " ['49', 'Chloe', 'Cuevas', 'F', 'paid'],\n",
       " ['80', 'Tegan', 'Levine', 'F', 'paid'],\n",
       " ['49', 'Chloe', 'Cuevas', 'F', 'paid'],\n",
       " ['80', 'Tegan', 'Levine', 'F', 'paid'],\n",
       " ['49', 'Chloe', 'Cuevas', 'F', 'paid'],\n",
       " ['80', 'Tegan', 'Levine', 'F', 'paid'],\n",
       " ['49', 'Chloe', 'Cuevas', 'F', 'paid'],\n",
       " ['49', 'Chloe', 'Cuevas', 'F', 'paid'],\n",
       " ['80', 'Tegan', 'Levine', 'F', 'paid'],\n",
       " ['49', 'Chloe', 'Cuevas', 'F', 'paid'],\n",
       " ['80', 'Tegan', 'Levine', 'F', 'paid'],\n",
       " ['49', 'Chloe', 'Cuevas', 'F', 'paid'],\n",
       " ['55', 'Martin', 'Johnson', 'M', 'free'],\n",
       " ['55', 'Martin', 'Johnson', 'M', 'free'],\n",
       " ['55', 'Martin', 'Johnson', 'M', 'free'],\n",
       " ['80', 'Tegan', 'Levine', 'F', 'paid'],\n",
       " ['55', 'Martin', 'Johnson', 'M', 'free'],\n",
       " ['49', 'Chloe', 'Cuevas', 'F', 'paid'],\n",
       " ['80', 'Tegan', 'Levine', 'F', 'paid'],\n",
       " ['49', 'Chloe', 'Cuevas', 'F', 'paid'],\n",
       " ['55', 'Martin', 'Johnson', 'M', 'free'],\n",
       " ['80', 'Tegan', 'Levine', 'F', 'paid'],\n",
       " ['55', 'Martin', 'Johnson', 'M', 'free'],\n",
       " ['49', 'Chloe', 'Cuevas', 'F', 'paid'],\n",
       " ['80', 'Tegan', 'Levine', 'F', 'paid'],\n",
       " ['49', 'Chloe', 'Cuevas', 'F', 'paid'],\n",
       " ['12', 'Austin', 'Rosales', 'M', 'free'],\n",
       " ['12', 'Austin', 'Rosales', 'M', 'free'],\n",
       " [None, None, None, None, 'free'],\n",
       " [None, None, None, None, 'free'],\n",
       " ['12', 'Austin', 'Rosales', 'M', 'free'],\n",
       " ['80', 'Tegan', 'Levine', 'F', 'paid'],\n",
       " ['49', 'Chloe', 'Cuevas', 'F', 'paid'],\n",
       " ['9', 'Wyatt', 'Scott', 'M', 'free'],\n",
       " ['80', 'Tegan', 'Levine', 'F', 'paid'],\n",
       " ['9', 'Wyatt', 'Scott', 'M', 'free'],\n",
       " ['80', 'Tegan', 'Levine', 'F', 'paid'],\n",
       " ['80', 'Tegan', 'Levine', 'F', 'paid'],\n",
       " ['80', 'Tegan', 'Levine', 'F', 'paid'],\n",
       " ['80', 'Tegan', 'Levine', 'F', 'paid'],\n",
       " ['80', 'Tegan', 'Levine', 'F', 'paid'],\n",
       " ['80', 'Tegan', 'Levine', 'F', 'paid'],\n",
       " ['80', 'Tegan', 'Levine', 'F', 'paid'],\n",
       " ['80', 'Tegan', 'Levine', 'F', 'paid'],\n",
       " ['22', 'Sean', 'Wilson', 'F', 'free'],\n",
       " ['80', 'Tegan', 'Levine', 'F', 'paid'],\n",
       " ['22', 'Sean', 'Wilson', 'F', 'free'],\n",
       " ['80', 'Tegan', 'Levine', 'F', 'paid'],\n",
       " ['80', 'Tegan', 'Levine', 'F', 'paid'],\n",
       " ['80', 'Tegan', 'Levine', 'F', 'paid'],\n",
       " ['80', 'Tegan', 'Levine', 'F', 'paid'],\n",
       " ['80', 'Tegan', 'Levine', 'F', 'paid'],\n",
       " ['80', 'Tegan', 'Levine', 'F', 'paid'],\n",
       " ['80', 'Tegan', 'Levine', 'F', 'paid'],\n",
       " ['80', 'Tegan', 'Levine', 'F', 'paid'],\n",
       " ['80', 'Tegan', 'Levine', 'F', 'paid'],\n",
       " ['80', 'Tegan', 'Levine', 'F', 'paid'],\n",
       " ['74', 'Braden', 'Parker', 'M', 'free'],\n",
       " ['80', 'Tegan', 'Levine', 'F', 'paid'],\n",
       " ['80', 'Tegan', 'Levine', 'F', 'paid'],\n",
       " ['80', 'Tegan', 'Levine', 'F', 'paid'],\n",
       " ['80', 'Tegan', 'Levine', 'F', 'paid'],\n",
       " ['80', 'Tegan', 'Levine', 'F', 'paid'],\n",
       " ['89', 'Kynnedi', 'Sanchez', 'F', 'free']]"
      ]
     },
     "execution_count": 37,
     "metadata": {},
     "output_type": "execute_result"
    }
   ],
   "source": [
    "user_log = user_df.to_json(orient='values')\n",
    "json.loads(user_log)"
   ]
  },
  {
   "cell_type": "code",
   "execution_count": 38,
   "metadata": {
    "editable": true
   },
   "outputs": [],
   "source": [
    "user_string_iterator = StringIteratorIO((\n",
    "    '|'.join(map(clean_csv_value, (\n",
    "        log[0],\n",
    "        log[1],\n",
    "        log[2],\n",
    "        log[3],\n",
    "        log[4],\n",
    "    ))) + '\\n'\n",
    "    for log in json.loads(user_log)\n",
    "))"
   ]
  },
  {
   "cell_type": "markdown",
   "metadata": {
    "editable": true
   },
   "source": [
    "#### Insert Records into Users Table\n",
    "Implement the `user_table_insert` query in `sql_queries.py` and run the cell below to insert records for the users in this log file into the `users` table. Remember to run `create_tables.py` before running the cell below to ensure you've created/resetted the `users` table in the sparkify database."
   ]
  },
  {
   "cell_type": "code",
   "execution_count": 18,
   "metadata": {
    "editable": true
   },
   "outputs": [],
   "source": [
    "for i, row in user_df.iterrows():\n",
    "    cur.execute(user_table_insert, row)\n",
    "    conn.commit()"
   ]
  },
  {
   "cell_type": "markdown",
   "metadata": {
    "editable": true
   },
   "source": [
    "Run `test.ipynb` to see if you've successfully added records to this table."
   ]
  },
  {
   "cell_type": "markdown",
   "metadata": {
    "editable": true
   },
   "source": [
    "## #5: `songplays` Table\n",
    "#### Extract Data and Songplays Table\n",
    "This one is a little more complicated since information from the songs table, artists table, and original log file are all needed for the `songplays` table. Since the log file does not specify an ID for either the song or the artist, you'll need to get the song ID and artist ID by querying the songs and artists tables to find matches based on song title, artist name, and song duration time.\n",
    "- Implement the `song_select` query in `sql_queries.py` to find the song ID and artist ID based on the title, artist name, and duration of a song.\n",
    "- Select the timestamp, user ID, level, song ID, artist ID, session ID, location, and user agent and set to `songplay_data`\n",
    "\n",
    "#### Insert Records into Songplays Table\n",
    "- Implement the `songplay_table_insert` query and run the cell below to insert records for the songplay actions in this log file into the `songplays` table. Remember to run `create_tables.py` before running the cell below to ensure you've created/resetted the `songplays` table in the sparkify database."
   ]
  },
  {
   "cell_type": "code",
   "execution_count": 7,
   "metadata": {
    "editable": true
   },
   "outputs": [
    {
     "data": {
      "text/html": [
       "<div>\n",
       "<style scoped>\n",
       "    .dataframe tbody tr th:only-of-type {\n",
       "        vertical-align: middle;\n",
       "    }\n",
       "\n",
       "    .dataframe tbody tr th {\n",
       "        vertical-align: top;\n",
       "    }\n",
       "\n",
       "    .dataframe thead th {\n",
       "        text-align: right;\n",
       "    }\n",
       "</style>\n",
       "<table border=\"1\" class=\"dataframe\">\n",
       "  <thead>\n",
       "    <tr style=\"text-align: right;\">\n",
       "      <th></th>\n",
       "      <th>artist</th>\n",
       "      <th>auth</th>\n",
       "      <th>firstName</th>\n",
       "      <th>gender</th>\n",
       "      <th>itemInSession</th>\n",
       "      <th>lastName</th>\n",
       "      <th>length</th>\n",
       "      <th>level</th>\n",
       "      <th>location</th>\n",
       "      <th>method</th>\n",
       "      <th>page</th>\n",
       "      <th>registration</th>\n",
       "      <th>sessionId</th>\n",
       "      <th>song</th>\n",
       "      <th>status</th>\n",
       "      <th>ts</th>\n",
       "      <th>userAgent</th>\n",
       "      <th>userId</th>\n",
       "    </tr>\n",
       "  </thead>\n",
       "  <tbody>\n",
       "    <tr>\n",
       "      <th>0</th>\n",
       "      <td>Sydney Youngblood</td>\n",
       "      <td>Logged In</td>\n",
       "      <td>Jacob</td>\n",
       "      <td>M</td>\n",
       "      <td>53</td>\n",
       "      <td>Klein</td>\n",
       "      <td>238.07955</td>\n",
       "      <td>paid</td>\n",
       "      <td>Tampa-St. Petersburg-Clearwater, FL</td>\n",
       "      <td>PUT</td>\n",
       "      <td>NextSong</td>\n",
       "      <td>1.540558e+12</td>\n",
       "      <td>954</td>\n",
       "      <td>Ain't No Sunshine</td>\n",
       "      <td>200</td>\n",
       "      <td>1543449657796</td>\n",
       "      <td>\"Mozilla/5.0 (Macintosh; Intel Mac OS X 10_9_4...</td>\n",
       "      <td>73</td>\n",
       "    </tr>\n",
       "    <tr>\n",
       "      <th>1</th>\n",
       "      <td>Gang Starr</td>\n",
       "      <td>Logged In</td>\n",
       "      <td>Layla</td>\n",
       "      <td>F</td>\n",
       "      <td>88</td>\n",
       "      <td>Griffin</td>\n",
       "      <td>151.92771</td>\n",
       "      <td>paid</td>\n",
       "      <td>Lake Havasu City-Kingman, AZ</td>\n",
       "      <td>PUT</td>\n",
       "      <td>NextSong</td>\n",
       "      <td>1.541057e+12</td>\n",
       "      <td>984</td>\n",
       "      <td>My Advice 2 You (Explicit)</td>\n",
       "      <td>200</td>\n",
       "      <td>1543449690796</td>\n",
       "      <td>\"Mozilla/5.0 (Windows NT 6.1; WOW64) AppleWebK...</td>\n",
       "      <td>24</td>\n",
       "    </tr>\n",
       "    <tr>\n",
       "      <th>2</th>\n",
       "      <td>3OH!3</td>\n",
       "      <td>Logged In</td>\n",
       "      <td>Layla</td>\n",
       "      <td>F</td>\n",
       "      <td>89</td>\n",
       "      <td>Griffin</td>\n",
       "      <td>192.52200</td>\n",
       "      <td>paid</td>\n",
       "      <td>Lake Havasu City-Kingman, AZ</td>\n",
       "      <td>PUT</td>\n",
       "      <td>NextSong</td>\n",
       "      <td>1.541057e+12</td>\n",
       "      <td>984</td>\n",
       "      <td>My First Kiss (Feat. Ke$ha) [Album Version]</td>\n",
       "      <td>200</td>\n",
       "      <td>1543449841796</td>\n",
       "      <td>\"Mozilla/5.0 (Windows NT 6.1; WOW64) AppleWebK...</td>\n",
       "      <td>24</td>\n",
       "    </tr>\n",
       "    <tr>\n",
       "      <th>3</th>\n",
       "      <td>RÃÂ¶yksopp</td>\n",
       "      <td>Logged In</td>\n",
       "      <td>Jacob</td>\n",
       "      <td>M</td>\n",
       "      <td>54</td>\n",
       "      <td>Klein</td>\n",
       "      <td>369.81506</td>\n",
       "      <td>paid</td>\n",
       "      <td>Tampa-St. Petersburg-Clearwater, FL</td>\n",
       "      <td>PUT</td>\n",
       "      <td>NextSong</td>\n",
       "      <td>1.540558e+12</td>\n",
       "      <td>954</td>\n",
       "      <td>The Girl and The Robot</td>\n",
       "      <td>200</td>\n",
       "      <td>1543449895796</td>\n",
       "      <td>\"Mozilla/5.0 (Macintosh; Intel Mac OS X 10_9_4...</td>\n",
       "      <td>73</td>\n",
       "    </tr>\n",
       "    <tr>\n",
       "      <th>4</th>\n",
       "      <td>Kajagoogoo</td>\n",
       "      <td>Logged In</td>\n",
       "      <td>Layla</td>\n",
       "      <td>F</td>\n",
       "      <td>90</td>\n",
       "      <td>Griffin</td>\n",
       "      <td>223.55546</td>\n",
       "      <td>paid</td>\n",
       "      <td>Lake Havasu City-Kingman, AZ</td>\n",
       "      <td>PUT</td>\n",
       "      <td>NextSong</td>\n",
       "      <td>1.541057e+12</td>\n",
       "      <td>984</td>\n",
       "      <td>Too Shy</td>\n",
       "      <td>200</td>\n",
       "      <td>1543450033796</td>\n",
       "      <td>\"Mozilla/5.0 (Windows NT 6.1; WOW64) AppleWebK...</td>\n",
       "      <td>24</td>\n",
       "    </tr>\n",
       "  </tbody>\n",
       "</table>\n",
       "</div>"
      ],
      "text/plain": [
       "              artist       auth firstName gender  itemInSession lastName  \\\n",
       "0  Sydney Youngblood  Logged In     Jacob      M             53    Klein   \n",
       "1         Gang Starr  Logged In     Layla      F             88  Griffin   \n",
       "2              3OH!3  Logged In     Layla      F             89  Griffin   \n",
       "3        RÃÂ¶yksopp  Logged In     Jacob      M             54    Klein   \n",
       "4         Kajagoogoo  Logged In     Layla      F             90  Griffin   \n",
       "\n",
       "      length level                             location method      page  \\\n",
       "0  238.07955  paid  Tampa-St. Petersburg-Clearwater, FL    PUT  NextSong   \n",
       "1  151.92771  paid         Lake Havasu City-Kingman, AZ    PUT  NextSong   \n",
       "2  192.52200  paid         Lake Havasu City-Kingman, AZ    PUT  NextSong   \n",
       "3  369.81506  paid  Tampa-St. Petersburg-Clearwater, FL    PUT  NextSong   \n",
       "4  223.55546  paid         Lake Havasu City-Kingman, AZ    PUT  NextSong   \n",
       "\n",
       "   registration  sessionId                                         song  \\\n",
       "0  1.540558e+12        954                            Ain't No Sunshine   \n",
       "1  1.541057e+12        984                   My Advice 2 You (Explicit)   \n",
       "2  1.541057e+12        984  My First Kiss (Feat. Ke$ha) [Album Version]   \n",
       "3  1.540558e+12        954                       The Girl and The Robot   \n",
       "4  1.541057e+12        984                                      Too Shy   \n",
       "\n",
       "   status             ts                                          userAgent  \\\n",
       "0     200  1543449657796  \"Mozilla/5.0 (Macintosh; Intel Mac OS X 10_9_4...   \n",
       "1     200  1543449690796  \"Mozilla/5.0 (Windows NT 6.1; WOW64) AppleWebK...   \n",
       "2     200  1543449841796  \"Mozilla/5.0 (Windows NT 6.1; WOW64) AppleWebK...   \n",
       "3     200  1543449895796  \"Mozilla/5.0 (Macintosh; Intel Mac OS X 10_9_4...   \n",
       "4     200  1543450033796  \"Mozilla/5.0 (Windows NT 6.1; WOW64) AppleWebK...   \n",
       "\n",
       "  userId  \n",
       "0     73  \n",
       "1     24  \n",
       "2     24  \n",
       "3     73  \n",
       "4     24  "
      ]
     },
     "execution_count": 7,
     "metadata": {},
     "output_type": "execute_result"
    }
   ],
   "source": [
    "df.head()"
   ]
  },
  {
   "cell_type": "code",
   "execution_count": 10,
   "metadata": {
    "editable": true
   },
   "outputs": [
    {
     "ename": "InternalError",
     "evalue": "current transaction is aborted, commands ignored until end of transaction block\n",
     "output_type": "error",
     "traceback": [
      "\u001b[0;31m---------------------------------------------------------------------------\u001b[0m",
      "\u001b[0;31mInternalError\u001b[0m                             Traceback (most recent call last)",
      "\u001b[0;32m<ipython-input-10-7d911e5fc0d9>\u001b[0m in \u001b[0;36m<module>\u001b[0;34m()\u001b[0m\n\u001b[1;32m      1\u001b[0m \u001b[0;32mfor\u001b[0m \u001b[0mindex\u001b[0m\u001b[0;34m,\u001b[0m \u001b[0mrow\u001b[0m \u001b[0;32min\u001b[0m \u001b[0mdf\u001b[0m\u001b[0;34m.\u001b[0m\u001b[0mhead\u001b[0m\u001b[0;34m(\u001b[0m\u001b[0;34m)\u001b[0m\u001b[0;34m.\u001b[0m\u001b[0miterrows\u001b[0m\u001b[0;34m(\u001b[0m\u001b[0;34m)\u001b[0m\u001b[0;34m:\u001b[0m\u001b[0;34m\u001b[0m\u001b[0m\n\u001b[0;32m----> 2\u001b[0;31m     \u001b[0mcur\u001b[0m\u001b[0;34m.\u001b[0m\u001b[0mexecute\u001b[0m\u001b[0;34m(\u001b[0m\u001b[0msong_select\u001b[0m\u001b[0;34m,\u001b[0m \u001b[0;34m(\u001b[0m\u001b[0mrow\u001b[0m\u001b[0;34m.\u001b[0m\u001b[0msong\u001b[0m\u001b[0;34m,\u001b[0m \u001b[0mrow\u001b[0m\u001b[0;34m.\u001b[0m\u001b[0martist\u001b[0m\u001b[0;34m,\u001b[0m \u001b[0mrow\u001b[0m\u001b[0;34m.\u001b[0m\u001b[0mlength\u001b[0m\u001b[0;34m)\u001b[0m\u001b[0;34m)\u001b[0m\u001b[0;34m\u001b[0m\u001b[0m\n\u001b[0m\u001b[1;32m      3\u001b[0m     \u001b[0mresults\u001b[0m \u001b[0;34m=\u001b[0m \u001b[0mcur\u001b[0m\u001b[0;34m.\u001b[0m\u001b[0mfetchone\u001b[0m\u001b[0;34m(\u001b[0m\u001b[0;34m)\u001b[0m\u001b[0;34m\u001b[0m\u001b[0m\n\u001b[1;32m      4\u001b[0m \u001b[0;34m\u001b[0m\u001b[0m\n\u001b[1;32m      5\u001b[0m     \u001b[0;32mif\u001b[0m \u001b[0mresults\u001b[0m\u001b[0;34m:\u001b[0m\u001b[0;34m\u001b[0m\u001b[0m\n",
      "\u001b[0;31mInternalError\u001b[0m: current transaction is aborted, commands ignored until end of transaction block\n"
     ]
    }
   ],
   "source": [
    "for index, row in df.head().iterrows():\n",
    "    cur.execute(song_select, (row.song, row.artist, row.length))\n",
    "    results = cur.fetchone()\n",
    "    \n",
    "    if results:\n",
    "        songid, artistid = results\n",
    "    else:\n",
    "        songid, artistid = None, None\n",
    "        \n",
    "    print(songid, artistid)"
   ]
  },
  {
   "cell_type": "code",
   "execution_count": 14,
   "metadata": {
    "editable": true
   },
   "outputs": [
    {
     "data": {
      "text/html": [
       "<div>\n",
       "<style scoped>\n",
       "    .dataframe tbody tr th:only-of-type {\n",
       "        vertical-align: middle;\n",
       "    }\n",
       "\n",
       "    .dataframe tbody tr th {\n",
       "        vertical-align: top;\n",
       "    }\n",
       "\n",
       "    .dataframe thead th {\n",
       "        text-align: right;\n",
       "    }\n",
       "</style>\n",
       "<table border=\"1\" class=\"dataframe\">\n",
       "  <thead>\n",
       "    <tr style=\"text-align: right;\">\n",
       "      <th></th>\n",
       "      <th>artist</th>\n",
       "      <th>auth</th>\n",
       "      <th>firstName</th>\n",
       "      <th>gender</th>\n",
       "      <th>itemInSession</th>\n",
       "      <th>lastName</th>\n",
       "      <th>length</th>\n",
       "      <th>level</th>\n",
       "      <th>location</th>\n",
       "      <th>method</th>\n",
       "      <th>page</th>\n",
       "      <th>registration</th>\n",
       "      <th>sessionId</th>\n",
       "      <th>song</th>\n",
       "      <th>status</th>\n",
       "      <th>ts</th>\n",
       "      <th>userAgent</th>\n",
       "      <th>userId</th>\n",
       "    </tr>\n",
       "  </thead>\n",
       "  <tbody>\n",
       "  </tbody>\n",
       "</table>\n",
       "</div>"
      ],
      "text/plain": [
       "Empty DataFrame\n",
       "Columns: [artist, auth, firstName, gender, itemInSession, lastName, length, level, location, method, page, registration, sessionId, song, status, ts, userAgent, userId]\n",
       "Index: []"
      ]
     },
     "execution_count": 14,
     "metadata": {},
     "output_type": "execute_result"
    }
   ],
   "source": [
    "# import numpy as np\n",
    "# df.replace('', np.nan, inplace=True)\n",
    "# df.dropna(subset=['userId'], inplace=True)\n",
    "# df[df['userId']==\"\"]"
   ]
  },
  {
   "cell_type": "code",
   "execution_count": 19,
   "metadata": {
    "editable": true
   },
   "outputs": [
    {
     "name": "stdout",
     "output_type": "stream",
     "text": [
      "<__main__.StringIteratorIO object at 0x7fca50868198>\n",
      "1970-01-01 00:25:43.449657796|73|paid|\\N|\\N|954|Tampa-St. Petersburg-Clearwater, FL|\"Mozilla/5.0 (Macintosh; Intel Mac OS X 10_9_4) AppleWebKit/537.78.2 (KHTML, like Gecko) Version/7.0.6 Safari/537.78.2\"\n",
      "1970-01-01 00:25:43.449690796|24|paid|\\N|\\N|984|Lake Havasu City-Kingman, AZ|\"Mozilla/5.0 (Windows NT 6.1; WOW64) AppleWebKit/537.36 (KHTML, like Gecko) Chrome/36.0.1985.125 Safari/537.36\"\n",
      "1970-01-01 00:25:43.449841796|24|paid|\\N|\\N|984|Lake Havasu City-Kingman, AZ|\"Mozilla/5.0 (Windows NT 6.1; WOW64) AppleWebKit/537.36 (KHTML, like Gecko) Chrome/36.0.1985.125 Safari/537.36\"\n",
      "\n"
     ]
    }
   ],
   "source": [
    "s = \"\"\n",
    "for index, row in df.iterrows():\n",
    "    \n",
    "    cur.execute(song_select, (row.song, row.artist, row.length))\n",
    "    results = cur.fetchone()\n",
    "\n",
    "    if results:\n",
    "        songid, artistid = results\n",
    "    else:\n",
    "        songid, artistid = None, None\n",
    "\n",
    "    if row['userId']==\"\":\n",
    "        row['userId'] = None\n",
    "    \n",
    "    s += '|'.join(map(clean_csv_value, (\n",
    "            pd.Timestamp(row[row.index.get_loc(\"ts\")]), \n",
    "            row[row.index.get_loc(\"userId\")],\n",
    "            row[row.index.get_loc(\"level\")],\n",
    "            songid,  \n",
    "            artistid,\n",
    "            row[row.index.get_loc(\"sessionId\")],\n",
    "            row[row.index.get_loc(\"location\")],  \n",
    "            row[row.index.get_loc(\"userAgent\")],\n",
    "            ))) + '\\n'\n",
    "    \n",
    "    if index == 2:\n",
    "        break\n",
    "\n",
    "print(StringIteratorIO(s))\n",
    "print(s)\n",
    "#     log = row.to_json(orient='values')\n",
    "    \n",
    "#     songplay_string_iterator = StringIteratorIO((\n",
    "#     '|'.join(map(clean_csv_value, (\n",
    "#         userdata[0],\n",
    "#         userdata[1],\n",
    "#         userdata[2],\n",
    "#         userdata[3],\n",
    "#         userdata[4],\n",
    "#     ))) + '\\n'\n",
    "#     ))"
   ]
  },
  {
   "cell_type": "code",
   "execution_count": 15,
   "metadata": {
    "editable": true
   },
   "outputs": [],
   "source": [
    "for index, row in df.iterrows():\n",
    "\n",
    "    # get songid and artistid from song and artist tables\n",
    "    cur.execute(song_select, (row.song, row.artist, row.length))\n",
    "    results = cur.fetchone()\n",
    "    \n",
    "    if results:\n",
    "        songid, artistid = results\n",
    "    else:\n",
    "        songid, artistid = None, None\n",
    "\n",
    "    if row['userId']==\"\":\n",
    "        row['userId'] = None\n",
    "\n",
    "    # insert songplay record\n",
    "    songplay_data = (pd.Timestamp(row.ts), row.userId, row.level, songid,  artistid, row.sessionId, row.location, row.userAgent)\n",
    "    cur.execute(songplay_table_insert, songplay_data)\n",
    "    conn.commit()"
   ]
  },
  {
   "cell_type": "markdown",
   "metadata": {
    "editable": true
   },
   "source": [
    "Run `test.ipynb` to see if you've successfully added records to this table."
   ]
  },
  {
   "cell_type": "markdown",
   "metadata": {
    "editable": true
   },
   "source": [
    "# Close Connection to Sparkify Database"
   ]
  },
  {
   "cell_type": "code",
   "execution_count": 16,
   "metadata": {
    "editable": true
   },
   "outputs": [],
   "source": [
    "conn.close()"
   ]
  },
  {
   "cell_type": "markdown",
   "metadata": {
    "editable": true
   },
   "source": [
    "# Implement `etl.py`\n",
    "Use what you've completed in this notebook to implement `etl.py`."
   ]
  },
  {
   "cell_type": "code",
   "execution_count": null,
   "metadata": {
    "editable": true
   },
   "outputs": [],
   "source": []
  }
 ],
 "metadata": {
  "kernelspec": {
   "display_name": "Python 3",
   "language": "python",
   "name": "python3"
  },
  "language_info": {
   "codemirror_mode": {
    "name": "ipython",
    "version": 3
   },
   "file_extension": ".py",
   "mimetype": "text/x-python",
   "name": "python",
   "nbconvert_exporter": "python",
   "pygments_lexer": "ipython3",
   "version": "3.6.3"
  }
 },
 "nbformat": 4,
 "nbformat_minor": 4
}
